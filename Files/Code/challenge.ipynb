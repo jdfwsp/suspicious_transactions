{
 "cells": [
  {
   "cell_type": "markdown",
   "metadata": {},
   "source": [
    "# Challenge\n",
    "\n",
    "Another approach to identifying fraudulent transactions is to look for outliers in the data. Standard deviation or quartiles are often used to detect outliers. Using this starter notebook, code two Python functions:\n",
    "\n",
    "* One that uses standard deviation to identify anomalies for any cardholder.\n",
    "\n",
    "* Another that uses interquartile range to identify anomalies for any cardholder.\n",
    "\n",
    "## Identifying Outliers using Standard Deviation"
   ]
  },
  {
   "cell_type": "code",
   "execution_count": 1,
   "metadata": {},
   "outputs": [],
   "source": [
    "# Initial imports\n",
    "import pandas as pd\n",
    "import numpy as np\n",
    "import random\n",
    "import psycopg2\n",
    "from dotenv import load_dotenv\n",
    "import os\n"
   ]
  },
  {
   "cell_type": "code",
   "execution_count": 2,
   "metadata": {},
   "outputs": [],
   "source": [
    "# Create a connection to the database\n",
    "load_dotenv()\n",
    "pgpass = os.getenv('pgpass')\n",
    "conn = psycopg2.connect(database = 'suspicious_transactions', user = 'postgres', password = pgpass, port = 5432)\n",
    "\n"
   ]
  },
  {
   "cell_type": "code",
   "execution_count": 62,
   "metadata": {},
   "outputs": [],
   "source": [
    "# Write function that locates outliers using standard deviation\n",
    "def std_outlier(id):\n",
    "    query = f'''\n",
    "    select date, amount\n",
    "    from anon_data\n",
    "    where cardholder_id = {id}\n",
    "    order by date;\n",
    "    '''\n",
    "    df = pd.read_sql(query, conn).set_index('date')\n",
    "    upper_range = (df['amount'].std()) + df['amount'].median()\n",
    "    outlier_df = df[df['amount'] > upper_range]\n",
    "    \n",
    "    print(f\"the median is {df['amount'].median()}\")\n",
    "    print(f\"the upper range is {upper_range}\")\n",
    "    print(f\"there are {outlier_df.count()[0]} outliers for cardholder id #{id}\")\n",
    "    return outlier_df"
   ]
  },
  {
   "cell_type": "code",
   "execution_count": 65,
   "metadata": {},
   "outputs": [
    {
     "name": "stdout",
     "output_type": "stream",
     "text": [
      "the median is 10.145\n",
      "the upper range is 318.8635326800269\n",
      "there are 9 outliers for cardholder id #25\n"
     ]
    },
    {
     "data": {
      "text/html": [
       "<div>\n",
       "<style scoped>\n",
       "    .dataframe tbody tr th:only-of-type {\n",
       "        vertical-align: middle;\n",
       "    }\n",
       "\n",
       "    .dataframe tbody tr th {\n",
       "        vertical-align: top;\n",
       "    }\n",
       "\n",
       "    .dataframe thead th {\n",
       "        text-align: right;\n",
       "    }\n",
       "</style>\n",
       "<table border=\"1\" class=\"dataframe\">\n",
       "  <thead>\n",
       "    <tr style=\"text-align: right;\">\n",
       "      <th></th>\n",
       "      <th>amount</th>\n",
       "    </tr>\n",
       "    <tr>\n",
       "      <th>date</th>\n",
       "      <th></th>\n",
       "    </tr>\n",
       "  </thead>\n",
       "  <tbody>\n",
       "    <tr>\n",
       "      <th>2018-01-30 18:31:00</th>\n",
       "      <td>1177.0</td>\n",
       "    </tr>\n",
       "    <tr>\n",
       "      <th>2018-03-06 07:18:09</th>\n",
       "      <td>1334.0</td>\n",
       "    </tr>\n",
       "    <tr>\n",
       "      <th>2018-04-08 06:03:50</th>\n",
       "      <td>1063.0</td>\n",
       "    </tr>\n",
       "    <tr>\n",
       "      <th>2018-05-13 06:31:20</th>\n",
       "      <td>1046.0</td>\n",
       "    </tr>\n",
       "    <tr>\n",
       "      <th>2018-06-04 03:46:15</th>\n",
       "      <td>1162.0</td>\n",
       "    </tr>\n",
       "    <tr>\n",
       "      <th>2018-06-06 21:50:17</th>\n",
       "      <td>749.0</td>\n",
       "    </tr>\n",
       "    <tr>\n",
       "      <th>2018-06-22 06:16:50</th>\n",
       "      <td>1813.0</td>\n",
       "    </tr>\n",
       "    <tr>\n",
       "      <th>2018-08-16 10:01:00</th>\n",
       "      <td>1001.0</td>\n",
       "    </tr>\n",
       "    <tr>\n",
       "      <th>2018-12-18 13:33:37</th>\n",
       "      <td>1074.0</td>\n",
       "    </tr>\n",
       "  </tbody>\n",
       "</table>\n",
       "</div>"
      ],
      "text/plain": [
       "                     amount\n",
       "date                       \n",
       "2018-01-30 18:31:00  1177.0\n",
       "2018-03-06 07:18:09  1334.0\n",
       "2018-04-08 06:03:50  1063.0\n",
       "2018-05-13 06:31:20  1046.0\n",
       "2018-06-04 03:46:15  1162.0\n",
       "2018-06-06 21:50:17   749.0\n",
       "2018-06-22 06:16:50  1813.0\n",
       "2018-08-16 10:01:00  1001.0\n",
       "2018-12-18 13:33:37  1074.0"
      ]
     },
     "execution_count": 65,
     "metadata": {},
     "output_type": "execute_result"
    }
   ],
   "source": [
    "# Find anomalous transactions for 3 random card holders\n",
    "std_outlier(25)"
   ]
  },
  {
   "cell_type": "markdown",
   "metadata": {},
   "source": [
    "## Identifying Outliers Using Interquartile Range"
   ]
  },
  {
   "cell_type": "code",
   "execution_count": 60,
   "metadata": {},
   "outputs": [],
   "source": [
    "# Write a function that locates outliers using interquartile range\n",
    "def iqr_outlier(id):\n",
    "    query = f'''\n",
    "    select date, amount\n",
    "    from anon_data\n",
    "    where cardholder_id = {id}\n",
    "    order by date;\n",
    "    '''\n",
    "    df = pd.read_sql(query, conn).set_index('date')\n",
    "    q3 = np.median(df['amount'][5:])\n",
    "    q1, q3 = np.percentile(df['amount'], [25, 75])\n",
    "    iqr = q3 - q1\n",
    "    upper_range = q3 + (1.5 * iqr)\n",
    "    outlier_df = df[df['amount'] > upper_range]\n",
    "    \n",
    "    print(f\"the median is {df['amount'].median()}\")\n",
    "    print(f\"the upper range is {upper_range}\")\n",
    "    print(f\"there are {outlier_df.count()[0]} outliers for cardholder id #{id}\")\n",
    "    outlier_df = df[df['amount'] > upper_range]\n",
    "    return outlier_df"
   ]
  },
  {
   "cell_type": "code",
   "execution_count": 64,
   "metadata": {},
   "outputs": [
    {
     "name": "stdout",
     "output_type": "stream",
     "text": [
      "the median is 10.145\n",
      "the upper range is 31.57875\n",
      "there are 12 outliers for cardholder id #25\n"
     ]
    },
    {
     "data": {
      "text/html": [
       "<div>\n",
       "<style scoped>\n",
       "    .dataframe tbody tr th:only-of-type {\n",
       "        vertical-align: middle;\n",
       "    }\n",
       "\n",
       "    .dataframe tbody tr th {\n",
       "        vertical-align: top;\n",
       "    }\n",
       "\n",
       "    .dataframe thead th {\n",
       "        text-align: right;\n",
       "    }\n",
       "</style>\n",
       "<table border=\"1\" class=\"dataframe\">\n",
       "  <thead>\n",
       "    <tr style=\"text-align: right;\">\n",
       "      <th></th>\n",
       "      <th>amount</th>\n",
       "    </tr>\n",
       "    <tr>\n",
       "      <th>date</th>\n",
       "      <th></th>\n",
       "    </tr>\n",
       "  </thead>\n",
       "  <tbody>\n",
       "    <tr>\n",
       "      <th>2018-01-30 18:31:00</th>\n",
       "      <td>1177.0</td>\n",
       "    </tr>\n",
       "    <tr>\n",
       "      <th>2018-03-06 07:18:09</th>\n",
       "      <td>1334.0</td>\n",
       "    </tr>\n",
       "    <tr>\n",
       "      <th>2018-04-01 07:17:21</th>\n",
       "      <td>100.0</td>\n",
       "    </tr>\n",
       "    <tr>\n",
       "      <th>2018-04-08 06:03:50</th>\n",
       "      <td>1063.0</td>\n",
       "    </tr>\n",
       "    <tr>\n",
       "      <th>2018-04-09 18:28:25</th>\n",
       "      <td>269.0</td>\n",
       "    </tr>\n",
       "    <tr>\n",
       "      <th>2018-05-13 06:31:20</th>\n",
       "      <td>1046.0</td>\n",
       "    </tr>\n",
       "    <tr>\n",
       "      <th>2018-06-04 03:46:15</th>\n",
       "      <td>1162.0</td>\n",
       "    </tr>\n",
       "    <tr>\n",
       "      <th>2018-06-06 21:50:17</th>\n",
       "      <td>749.0</td>\n",
       "    </tr>\n",
       "    <tr>\n",
       "      <th>2018-06-22 06:16:50</th>\n",
       "      <td>1813.0</td>\n",
       "    </tr>\n",
       "    <tr>\n",
       "      <th>2018-08-16 10:01:00</th>\n",
       "      <td>1001.0</td>\n",
       "    </tr>\n",
       "    <tr>\n",
       "      <th>2018-10-28 02:12:58</th>\n",
       "      <td>137.0</td>\n",
       "    </tr>\n",
       "    <tr>\n",
       "      <th>2018-12-18 13:33:37</th>\n",
       "      <td>1074.0</td>\n",
       "    </tr>\n",
       "  </tbody>\n",
       "</table>\n",
       "</div>"
      ],
      "text/plain": [
       "                     amount\n",
       "date                       \n",
       "2018-01-30 18:31:00  1177.0\n",
       "2018-03-06 07:18:09  1334.0\n",
       "2018-04-01 07:17:21   100.0\n",
       "2018-04-08 06:03:50  1063.0\n",
       "2018-04-09 18:28:25   269.0\n",
       "2018-05-13 06:31:20  1046.0\n",
       "2018-06-04 03:46:15  1162.0\n",
       "2018-06-06 21:50:17   749.0\n",
       "2018-06-22 06:16:50  1813.0\n",
       "2018-08-16 10:01:00  1001.0\n",
       "2018-10-28 02:12:58   137.0\n",
       "2018-12-18 13:33:37  1074.0"
      ]
     },
     "execution_count": 64,
     "metadata": {},
     "output_type": "execute_result"
    }
   ],
   "source": [
    "# Find anomalous transactions for 3 random card holders\n",
    "iqr_outlier(25)"
   ]
  },
  {
   "cell_type": "code",
   "execution_count": null,
   "metadata": {},
   "outputs": [],
   "source": []
  },
  {
   "cell_type": "code",
   "execution_count": null,
   "metadata": {},
   "outputs": [],
   "source": []
  }
 ],
 "metadata": {
  "file_extension": ".py",
  "kernelspec": {
   "display_name": "Python 3",
   "language": "python",
   "name": "python3"
  },
  "language_info": {
   "codemirror_mode": {
    "name": "ipython",
    "version": 3
   },
   "file_extension": ".py",
   "mimetype": "text/x-python",
   "name": "python",
   "nbconvert_exporter": "python",
   "pygments_lexer": "ipython3",
   "version": "3.9.5"
  },
  "mimetype": "text/x-python",
  "name": "python",
  "npconvert_exporter": "python",
  "pygments_lexer": "ipython3",
  "version": 3
 },
 "nbformat": 4,
 "nbformat_minor": 4
}
