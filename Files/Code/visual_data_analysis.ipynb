{
 "cells": [
  {
   "cell_type": "markdown",
   "metadata": {},
   "source": [
    "# Visual Data Analysis of Fraudulent Transactions\n",
    "\n",
    "Your CFO has also requested detailed trends data on specific card holders. Use the starter notebook to query your database and generate visualizations that supply the requested information as follows, then add your visualizations and observations to your markdown report."
   ]
  },
  {
   "cell_type": "code",
   "execution_count": 187,
   "metadata": {},
   "outputs": [],
   "source": [
    "# Initial imports\n",
    "import pandas as pd\n",
    "import calendar\n",
    "import plotly.express as px\n",
    "import hvplot.pandas\n",
    "from sqlalchemy import create_engine\n",
    "import psycopg2\n",
    "from dotenv import load_dotenv\n",
    "import os\n",
    "import datetime as dt"
   ]
  },
  {
   "cell_type": "code",
   "execution_count": 2,
   "metadata": {},
   "outputs": [],
   "source": [
    "load_dotenv()\n",
    "pgpass = os.getenv('pgpass')\n",
    "conn = psycopg2.connect(database = 'suspicious_transactions', user = 'postgres', password = pgpass, port = 5432)\n"
   ]
  },
  {
   "cell_type": "markdown",
   "metadata": {},
   "source": [
    "## Data Analysis Question 1\n",
    "\n",
    "The two most important customers of the firm may have been hacked. Verify if there are any fraudulent transactions in their history. For privacy reasons, you only know that their cardholder IDs are 2 and 18.\n",
    "\n",
    "* Using hvPlot, create a line plot representing the time series of transactions over the course of the year for each cardholder separately. \n",
    "\n",
    "* Next, to better compare their patterns, create a single line plot that containins both card holders' trend data.  \n",
    "\n",
    "* What difference do you observe between the consumption patterns? Does the difference suggest a fraudulent transaction? Explain your rationale in the markdown report."
   ]
  },
  {
   "cell_type": "code",
   "execution_count": 177,
   "metadata": {},
   "outputs": [
    {
     "data": {
      "text/html": [
       "<div>\n",
       "<style scoped>\n",
       "    .dataframe tbody tr th:only-of-type {\n",
       "        vertical-align: middle;\n",
       "    }\n",
       "\n",
       "    .dataframe tbody tr th {\n",
       "        vertical-align: top;\n",
       "    }\n",
       "\n",
       "    .dataframe thead tr th {\n",
       "        text-align: left;\n",
       "    }\n",
       "\n",
       "    .dataframe thead tr:last-of-type th {\n",
       "        text-align: right;\n",
       "    }\n",
       "</style>\n",
       "<table border=\"1\" class=\"dataframe\">\n",
       "  <thead>\n",
       "    <tr>\n",
       "      <th></th>\n",
       "      <th colspan=\"8\" halign=\"left\">amount</th>\n",
       "    </tr>\n",
       "    <tr>\n",
       "      <th></th>\n",
       "      <th>count</th>\n",
       "      <th>mean</th>\n",
       "      <th>std</th>\n",
       "      <th>min</th>\n",
       "      <th>25%</th>\n",
       "      <th>50%</th>\n",
       "      <th>75%</th>\n",
       "      <th>max</th>\n",
       "    </tr>\n",
       "    <tr>\n",
       "      <th>cardholder_id</th>\n",
       "      <th></th>\n",
       "      <th></th>\n",
       "      <th></th>\n",
       "      <th></th>\n",
       "      <th></th>\n",
       "      <th></th>\n",
       "      <th></th>\n",
       "      <th></th>\n",
       "    </tr>\n",
       "  </thead>\n",
       "  <tbody>\n",
       "    <tr>\n",
       "      <th>2</th>\n",
       "      <td>99.0</td>\n",
       "      <td>9.591919</td>\n",
       "      <td>5.541201</td>\n",
       "      <td>0.70</td>\n",
       "      <td>4.14</td>\n",
       "      <td>10.26</td>\n",
       "      <td>13.295</td>\n",
       "      <td>19.51</td>\n",
       "    </tr>\n",
       "    <tr>\n",
       "      <th>18</th>\n",
       "      <td>133.0</td>\n",
       "      <td>90.982030</td>\n",
       "      <td>324.714216</td>\n",
       "      <td>0.67</td>\n",
       "      <td>3.46</td>\n",
       "      <td>10.37</td>\n",
       "      <td>16.160</td>\n",
       "      <td>1839.00</td>\n",
       "    </tr>\n",
       "  </tbody>\n",
       "</table>\n",
       "</div>"
      ],
      "text/plain": [
       "              amount                                                    \\\n",
       "               count       mean         std   min   25%    50%     75%   \n",
       "cardholder_id                                                            \n",
       "2               99.0   9.591919    5.541201  0.70  4.14  10.26  13.295   \n",
       "18             133.0  90.982030  324.714216  0.67  3.46  10.37  16.160   \n",
       "\n",
       "                        \n",
       "                   max  \n",
       "cardholder_id           \n",
       "2                19.51  \n",
       "18             1839.00  "
      ]
     },
     "execution_count": 177,
     "metadata": {},
     "output_type": "execute_result"
    }
   ],
   "source": [
    "# loading data for card holder 2 and 18 from the database\n",
    "# Write the query\n",
    "query_2_18 = '''\n",
    "select date, cardholder_id, \n",
    "amount from anon_data\n",
    "where cardholder_id = 2 OR cardholder_id = 18\n",
    "order by date\n",
    "'''\n",
    "# Create a DataFrame from the query result. HINT: Use pd.read_sql(query, engine)\n",
    "cardholders_2_18_df = pd.read_sql(query_2_18, conn).set_index('date')\n",
    "cardholders_2_18_df.groupby('cardholder_id').describe()"
   ]
  },
  {
   "cell_type": "code",
   "execution_count": 178,
   "metadata": {},
   "outputs": [
    {
     "data": {},
     "metadata": {},
     "output_type": "display_data"
    },
    {
     "data": {
      "application/vnd.holoviews_exec.v0+json": "",
      "text/html": [
       "<div id='16376'>\n",
       "\n",
       "\n",
       "\n",
       "\n",
       "\n",
       "  <div class=\"bk-root\" id=\"8e8ba159-3645-4810-897d-a462de28dd20\" data-root-id=\"16376\"></div>\n",
       "</div>\n",
       "<script type=\"application/javascript\">(function(root) {\n",
       "  function embed_document(root) {\n",
       "    var docs_json = {\"bc9092d7-46b5-4283-9547-2da8f841f8de\":{\"defs\":[],\"roots\":{\"references\":[{\"attributes\":{\"axis_label\":\"date\",\"formatter\":{\"id\":\"16422\"},\"major_label_policy\":{\"id\":\"16420\"},\"ticker\":{\"id\":\"16391\"}},\"id\":\"16390\",\"type\":\"DatetimeAxis\"},{\"attributes\":{},\"id\":\"16399\",\"type\":\"PanTool\"},{\"attributes\":{\"line_color\":\"#30a2da\",\"line_width\":2,\"x\":{\"field\":\"date\"},\"y\":{\"field\":\"amount\"}},\"id\":\"16419\",\"type\":\"Line\"},{\"attributes\":{\"data_source\":{\"id\":\"16411\"},\"glyph\":{\"id\":\"16414\"},\"hover_glyph\":null,\"muted_glyph\":{\"id\":\"16416\"},\"nonselection_glyph\":{\"id\":\"16415\"},\"selection_glyph\":{\"id\":\"16419\"},\"view\":{\"id\":\"16418\"}},\"id\":\"16417\",\"type\":\"GlyphRenderer\"},{\"attributes\":{\"source\":{\"id\":\"16411\"}},\"id\":\"16418\",\"type\":\"CDSView\"},{\"attributes\":{\"line_alpha\":0.1,\"line_color\":\"#30a2da\",\"line_width\":2,\"x\":{\"field\":\"date\"},\"y\":{\"field\":\"amount\"}},\"id\":\"16415\",\"type\":\"Line\"},{\"attributes\":{},\"id\":\"16386\",\"type\":\"LinearScale\"},{\"attributes\":{\"line_color\":\"#30a2da\",\"line_width\":2,\"x\":{\"field\":\"date\"},\"y\":{\"field\":\"amount\"}},\"id\":\"16414\",\"type\":\"Line\"},{\"attributes\":{\"line_alpha\":0.2,\"line_color\":\"#30a2da\",\"line_width\":2,\"x\":{\"field\":\"date\"},\"y\":{\"field\":\"amount\"}},\"id\":\"16416\",\"type\":\"Line\"},{\"attributes\":{},\"id\":\"16412\",\"type\":\"Selection\"},{\"attributes\":{\"end\":21.391000000000002,\"reset_end\":21.391000000000002,\"reset_start\":-1.1810000000000003,\"start\":-1.1810000000000003,\"tags\":[[[\"amount\",\"amount\",null]]]},\"id\":\"16379\",\"type\":\"Range1d\"},{\"attributes\":{},\"id\":\"16420\",\"type\":\"AllLabels\"},{\"attributes\":{\"margin\":[5,5,5,5],\"name\":\"HSpacer29943\",\"sizing_mode\":\"stretch_width\"},\"id\":\"16377\",\"type\":\"Spacer\"},{\"attributes\":{\"mantissas\":[1,2,5],\"max_interval\":500.0,\"num_minor_ticks\":0},\"id\":\"16433\",\"type\":\"AdaptiveTicker\"},{\"attributes\":{\"base\":60,\"mantissas\":[1,2,5,10,15,20,30],\"max_interval\":1800000.0,\"min_interval\":1000.0,\"num_minor_ticks\":0},\"id\":\"16434\",\"type\":\"AdaptiveTicker\"},{\"attributes\":{\"text_color\":\"black\",\"text_font_size\":\"12pt\"},\"id\":\"16382\",\"type\":\"Title\"},{\"attributes\":{\"base\":24,\"mantissas\":[1,2,4,6,8,12],\"max_interval\":43200000.0,\"min_interval\":3600000.0,\"num_minor_ticks\":0},\"id\":\"16435\",\"type\":\"AdaptiveTicker\"},{\"attributes\":{\"below\":[{\"id\":\"16390\"}],\"center\":[{\"id\":\"16393\"},{\"id\":\"16397\"}],\"height\":300,\"left\":[{\"id\":\"16394\"}],\"margin\":[5,5,5,5],\"min_border_bottom\":10,\"min_border_left\":10,\"min_border_right\":10,\"min_border_top\":10,\"renderers\":[{\"id\":\"16417\"}],\"sizing_mode\":\"fixed\",\"title\":{\"id\":\"16382\"},\"toolbar\":{\"id\":\"16404\"},\"width\":700,\"x_range\":{\"id\":\"16378\"},\"x_scale\":{\"id\":\"16386\"},\"y_range\":{\"id\":\"16379\"},\"y_scale\":{\"id\":\"16388\"}},\"id\":\"16381\",\"subtype\":\"Figure\",\"type\":\"Plot\"},{\"attributes\":{},\"id\":\"16444\",\"type\":\"YearsTicker\"},{\"attributes\":{\"callback\":null,\"formatters\":{\"@{date}\":\"datetime\"},\"renderers\":[{\"id\":\"16417\"}],\"tags\":[\"hv_created\"],\"tooltips\":[[\"date\",\"@{date}{%F %T}\"],[\"amount\",\"@{amount}\"]]},\"id\":\"16380\",\"type\":\"HoverTool\"},{\"attributes\":{\"months\":[0,1,2,3,4,5,6,7,8,9,10,11]},\"id\":\"16440\",\"type\":\"MonthsTicker\"},{\"attributes\":{\"data\":{\"amount\":{\"__ndarray__\":\"SOF6FK5H9T+kcD0K16MlQArXo3A9SjFAUrgehevRJUCkcD0K16MxQClcj8L1KCdAcT0K16PwJEBI4XoUrscmQI/C9Shcj/Y/UrgehetRMkBI4XoUrscuQNejcD0K1xtAKVyPwvUo8D+F61G4HoUyQI/C9ShcDzFAZmZmZmZmEECPwvUoXA8rQIXrUbgehRBAKVyPwvUoJEBSuB6F61EOQHsUrkfhei5AcT0K16NwJkDNzMzMzEwkQD0K16NwPfo/SOF6FK5HG0AfhetRuJ4yQEjhehSuR/E/AAAAAAAAGkCF61G4HoUmQOxRuB6FayRAhetRuB6FJEAfhetRuJ4kQGZmZmZmZuY/MzMzMzMzGkC4HoXrUTgoQFK4HoXr0SVAXI/C9ShcC0BmZmZmZuYyQHsUrkfhegpACtejcD0K8z8pXI/C9Sj8P+xRuB6F6y9Aj8L1KFwPKkB7FK5H4XosQGZmZmZm5i9A9ihcj8L1MEDNzMzMzEwlQIXrUbgehRRASOF6FK5HKUC4HoXrUbj6PwAAAAAAQDFA16NwPQrXE0CuR+F6FC4kQIXrUbgehSRAH4XrUbgeE0BxPQrXo3ALQD0K16Nw/TBApHA9CtejHUAK16NwPQoJQClcj8L1qCRAKVyPwvUoMUBcj8L1KFwQQM3MzMzMjDBAj8L1KFyPE0AUrkfhepQkQMP1KFyPgjNAH4XrUbgeJEDsUbgehesFQPYoXI/C9SJAmpmZmZmZEEDsUbgehWsuQM3MzMzMzBJAuB6F61G4MUBmZmZmZmYIQEjhehSuR/k/CtejcD0KJ0Bcj8L1KFwPQDMzMzMzsyZAuB6F61G48j8K16NwPQokQFyPwvUoXAdA16NwPQpXJEAfhetRuB4qQNejcD0K1zBAH4XrUbgeB0BmZmZmZuYkQKRwPQrXozBAexSuR+F6F0BSuB6F69EmQAAAAAAAAAJAZmZmZmZmMEApXI/C9SgkQClcj8L1KBFASOF6FK7HKEBcj8L1KFwzQB+F61G4HiRAw/UoXI/CJkBmZmZmZmYkQI/C9ShcDyZA\",\"dtype\":\"float64\",\"order\":\"little\",\"shape\":[99]},\"date\":{\"__ndarray__\":\"AIDyF5QMdkIAAJgzngx2QgCAK8QSDXZCAAA8nfgNdkIAgAmK2g92QgCA+dEAEXZCAIAF5iASdkIAgAPaIxN2QgCA04XNFXZCAAA1Qj0XdkIAgBx8VRd2QgCAjUMsHHZCAACI9/wcdkIAAILzZR12QgCAM1RtH3ZCAIBgiZcfdkIAgCrD8SB2QgCABIwXIXZCAACViEYhdkIAAN+0iSF2QgAAGUaGInZCAADQdqcjdkIAgLD3HyR2QgCAS4ZGJHZCAACtNdMkdkIAAMqfNSd2QgCA7/UQKHZCAIANrw8qdkIAgGlnUCp2QgAANqH/K3ZCAIAAuRQtdkIAAIQxxS12QgCAGQMrMXZCAACvqNMxdkIAAFFILDN2QgCAlSFcM3ZCAADKsHY0dkIAABIGTDV2QgCA3qZeNXZCAABu2p84dkIAACEGPjl2QgCAEwtcOnZCAABLWaA7dkIAgH7asTt2QgAATDIgPHZCAADncPo8dkIAACo0Zz12QgCApdnhP3ZCAAC/rytAdkIAgCB2RkF2QgCAuvBeQXZCAIB2GkBDdkIAgAmCPkV2QgAAUo+BRXZCAAAP3SBGdkIAADJQt0Z2QgCAhqrYRnZCAIC02FNHdkIAAGP4pUd2QgCAiuYfTHZCAACCPu9NdkIAgNeTqFB2QgCA+3EAUXZCAACy2oZTdkIAAA96G1R2QgCAX0IJVXZCAACjoEpWdkIAAMorTFd2QgAAr1ZQV3ZCAAA4kD1cdkIAAC81uV12QgAAY9jNXXZCAIDjyDZedkIAABRohl92QgAA0I+dX3ZCAACqnAtgdkIAAFE462B2QgAAvPtCYnZCAICZv2FjdkIAgPudV2R2QgAAyibkZHZCAADLzCdmdkIAgLUVqmd2QgAAvxJYanZCAICyE4hrdkIAAEjoPWx2QgCAkctFbHZCAAAzOmVsdkIAgCPUA252QgAAUvIqcHZCAAB55llxdkIAAMLvNHZ2QgCAYm3SdnZCAACLssl4dkIAgA2mY3p2QgAApeyCenZCAIAqLHR7dkIAgBgEhH12QgCAOQlXf3ZC\",\"dtype\":\"float64\",\"order\":\"little\",\"shape\":[99]}},\"selected\":{\"id\":\"16412\"},\"selection_policy\":{\"id\":\"16446\"}},\"id\":\"16411\",\"type\":\"ColumnDataSource\"},{\"attributes\":{\"days\":[1,15]},\"id\":\"16439\",\"type\":\"DaysTicker\"},{\"attributes\":{},\"id\":\"16388\",\"type\":\"LinearScale\"},{\"attributes\":{\"days\":[1,2,3,4,5,6,7,8,9,10,11,12,13,14,15,16,17,18,19,20,21,22,23,24,25,26,27,28,29,30,31]},\"id\":\"16436\",\"type\":\"DaysTicker\"},{\"attributes\":{\"days\":[1,4,7,10,13,16,19,22,25,28]},\"id\":\"16437\",\"type\":\"DaysTicker\"},{\"attributes\":{\"num_minor_ticks\":5,\"tickers\":[{\"id\":\"16433\"},{\"id\":\"16434\"},{\"id\":\"16435\"},{\"id\":\"16436\"},{\"id\":\"16437\"},{\"id\":\"16438\"},{\"id\":\"16439\"},{\"id\":\"16440\"},{\"id\":\"16441\"},{\"id\":\"16442\"},{\"id\":\"16443\"},{\"id\":\"16444\"}]},\"id\":\"16391\",\"type\":\"DatetimeTicker\"},{\"attributes\":{},\"id\":\"16422\",\"type\":\"DatetimeTickFormatter\"},{\"attributes\":{\"days\":[1,8,15,22]},\"id\":\"16438\",\"type\":\"DaysTicker\"},{\"attributes\":{},\"id\":\"16425\",\"type\":\"BasicTickFormatter\"},{\"attributes\":{\"months\":[0,6]},\"id\":\"16443\",\"type\":\"MonthsTicker\"},{\"attributes\":{\"children\":[{\"id\":\"16377\"},{\"id\":\"16381\"},{\"id\":\"16470\"}],\"margin\":[0,0,0,0],\"name\":\"Row29939\",\"tags\":[\"embedded\"]},\"id\":\"16376\",\"type\":\"Row\"},{\"attributes\":{\"months\":[0,2,4,6,8,10]},\"id\":\"16441\",\"type\":\"MonthsTicker\"},{\"attributes\":{\"axis\":{\"id\":\"16394\"},\"dimension\":1,\"grid_line_color\":null,\"ticker\":null},\"id\":\"16397\",\"type\":\"Grid\"},{\"attributes\":{},\"id\":\"16423\",\"type\":\"AllLabels\"},{\"attributes\":{\"bottom_units\":\"screen\",\"fill_alpha\":0.5,\"fill_color\":\"lightgrey\",\"left_units\":\"screen\",\"level\":\"overlay\",\"line_alpha\":1.0,\"line_color\":\"black\",\"line_dash\":[4,4],\"line_width\":2,\"right_units\":\"screen\",\"syncable\":false,\"top_units\":\"screen\"},\"id\":\"16403\",\"type\":\"BoxAnnotation\"},{\"attributes\":{\"axis_label\":\"amount\",\"formatter\":{\"id\":\"16425\"},\"major_label_policy\":{\"id\":\"16423\"},\"ticker\":{\"id\":\"16395\"}},\"id\":\"16394\",\"type\":\"LinearAxis\"},{\"attributes\":{\"months\":[0,4,8]},\"id\":\"16442\",\"type\":\"MonthsTicker\"},{\"attributes\":{\"axis\":{\"id\":\"16390\"},\"grid_line_color\":null,\"ticker\":null},\"id\":\"16393\",\"type\":\"Grid\"},{\"attributes\":{},\"id\":\"16395\",\"type\":\"BasicTicker\"},{\"attributes\":{},\"id\":\"16446\",\"type\":\"UnionRenderers\"},{\"attributes\":{},\"id\":\"16400\",\"type\":\"WheelZoomTool\"},{\"attributes\":{\"margin\":[5,5,5,5],\"name\":\"HSpacer29944\",\"sizing_mode\":\"stretch_width\"},\"id\":\"16470\",\"type\":\"Spacer\"},{\"attributes\":{},\"id\":\"16398\",\"type\":\"SaveTool\"},{\"attributes\":{\"overlay\":{\"id\":\"16403\"}},\"id\":\"16401\",\"type\":\"BoxZoomTool\"},{\"attributes\":{},\"id\":\"16402\",\"type\":\"ResetTool\"},{\"attributes\":{\"active_multi\":null,\"tools\":[{\"id\":\"16380\"},{\"id\":\"16398\"},{\"id\":\"16399\"},{\"id\":\"16400\"},{\"id\":\"16401\"},{\"id\":\"16402\"}]},\"id\":\"16404\",\"type\":\"Toolbar\"},{\"attributes\":{\"end\":1546011055000.0,\"reset_end\":1546011055000.0,\"reset_start\":1515205001000.0,\"start\":1515205001000.0,\"tags\":[[[\"date\",\"date\",null]]]},\"id\":\"16378\",\"type\":\"Range1d\"}],\"root_ids\":[\"16376\"]},\"title\":\"Bokeh Application\",\"version\":\"2.3.2\"}};\n",
       "    var render_items = [{\"docid\":\"bc9092d7-46b5-4283-9547-2da8f841f8de\",\"root_ids\":[\"16376\"],\"roots\":{\"16376\":\"8e8ba159-3645-4810-897d-a462de28dd20\"}}];\n",
       "    root.Bokeh.embed.embed_items_notebook(docs_json, render_items);\n",
       "  }\n",
       "  if (root.Bokeh !== undefined && root.Bokeh.Panel !== undefined) {\n",
       "    embed_document(root);\n",
       "  } else {\n",
       "    var attempts = 0;\n",
       "    var timer = setInterval(function(root) {\n",
       "      if (root.Bokeh !== undefined && root.Bokeh.Panel !== undefined) {\n",
       "        clearInterval(timer);\n",
       "        embed_document(root);\n",
       "      } else if (document.readyState == \"complete\") {\n",
       "        attempts++;\n",
       "        if (attempts > 100) {\n",
       "          clearInterval(timer);\n",
       "          console.log(\"Bokeh: ERROR: Unable to run BokehJS code because BokehJS library is missing\");\n",
       "        }\n",
       "      }\n",
       "    }, 10, root)\n",
       "  }\n",
       "})(window);</script>"
      ],
      "text/plain": [
       ":Curve   [date]   (amount)"
      ]
     },
     "execution_count": 178,
     "metadata": {
      "application/vnd.holoviews_exec.v0+json": {
       "id": "16376"
      }
     },
     "output_type": "execute_result"
    }
   ],
   "source": [
    "# Plot for cardholder 2\n",
    "cardholder_2_plot = cardholders_2_18_df[cardholders_2_18_df['cardholder_id'] == 2].hvplot.line(x = 'date', y = 'amount')\n",
    "cardholder_2_plot"
   ]
  },
  {
   "cell_type": "code",
   "execution_count": 175,
   "metadata": {},
   "outputs": [
    {
     "data": {},
     "metadata": {},
     "output_type": "display_data"
    },
    {
     "data": {
      "application/vnd.holoviews_exec.v0+json": "",
      "text/html": [
       "<div id='14528'>\n",
       "\n",
       "\n",
       "\n",
       "\n",
       "\n",
       "  <div class=\"bk-root\" id=\"f0162445-0d98-4393-9aef-41c4405bfb6f\" data-root-id=\"14528\"></div>\n",
       "</div>\n",
       "<script type=\"application/javascript\">(function(root) {\n",
       "  function embed_document(root) {\n",
       "    var docs_json = {\"9e360303-85d0-4ec6-85cc-9428976a3f34\":{\"defs\":[],\"roots\":{\"references\":[{\"attributes\":{},\"id\":\"14598\",\"type\":\"UnionRenderers\"},{\"attributes\":{},\"id\":\"14577\",\"type\":\"BasicTickFormatter\"},{\"attributes\":{\"data_source\":{\"id\":\"14563\"},\"glyph\":{\"id\":\"14566\"},\"hover_glyph\":null,\"muted_glyph\":{\"id\":\"14568\"},\"nonselection_glyph\":{\"id\":\"14567\"},\"selection_glyph\":{\"id\":\"14571\"},\"view\":{\"id\":\"14570\"}},\"id\":\"14569\",\"type\":\"GlyphRenderer\"},{\"attributes\":{\"days\":[1,15]},\"id\":\"14591\",\"type\":\"DaysTicker\"},{\"attributes\":{\"below\":[{\"id\":\"14542\"}],\"center\":[{\"id\":\"14545\"},{\"id\":\"14549\"}],\"height\":300,\"left\":[{\"id\":\"14546\"}],\"margin\":[5,5,5,5],\"min_border_bottom\":10,\"min_border_left\":10,\"min_border_right\":10,\"min_border_top\":10,\"renderers\":[{\"id\":\"14569\"}],\"sizing_mode\":\"fixed\",\"title\":{\"id\":\"14534\"},\"toolbar\":{\"id\":\"14556\"},\"width\":700,\"x_range\":{\"id\":\"14530\"},\"x_scale\":{\"id\":\"14538\"},\"y_range\":{\"id\":\"14531\"},\"y_scale\":{\"id\":\"14540\"}},\"id\":\"14533\",\"subtype\":\"Figure\",\"type\":\"Plot\"},{\"attributes\":{\"months\":[0,2,4,6,8,10]},\"id\":\"14593\",\"type\":\"MonthsTicker\"},{\"attributes\":{\"margin\":[5,5,5,5],\"name\":\"HSpacer20668\",\"sizing_mode\":\"stretch_width\"},\"id\":\"14622\",\"type\":\"Spacer\"},{\"attributes\":{\"text_color\":\"black\",\"text_font_size\":\"12pt\"},\"id\":\"14534\",\"type\":\"Title\"},{\"attributes\":{\"months\":[0,6]},\"id\":\"14595\",\"type\":\"MonthsTicker\"},{\"attributes\":{},\"id\":\"14550\",\"type\":\"SaveTool\"},{\"attributes\":{\"base\":60,\"mantissas\":[1,2,5,10,15,20,30],\"max_interval\":1800000.0,\"min_interval\":1000.0,\"num_minor_ticks\":0},\"id\":\"14586\",\"type\":\"AdaptiveTicker\"},{\"attributes\":{\"end\":2022.833,\"reset_end\":2022.833,\"reset_start\":-183.163,\"start\":-183.163,\"tags\":[[[\"amount\",\"amount\",null]]]},\"id\":\"14531\",\"type\":\"Range1d\"},{\"attributes\":{},\"id\":\"14572\",\"type\":\"AllLabels\"},{\"attributes\":{\"children\":[{\"id\":\"14529\"},{\"id\":\"14533\"},{\"id\":\"14622\"}],\"margin\":[0,0,0,0],\"name\":\"Row20663\",\"tags\":[\"embedded\"]},\"id\":\"14528\",\"type\":\"Row\"},{\"attributes\":{\"axis_label\":\"date\",\"formatter\":{\"id\":\"14574\"},\"major_label_policy\":{\"id\":\"14572\"},\"ticker\":{\"id\":\"14543\"}},\"id\":\"14542\",\"type\":\"DatetimeAxis\"},{\"attributes\":{\"days\":[1,2,3,4,5,6,7,8,9,10,11,12,13,14,15,16,17,18,19,20,21,22,23,24,25,26,27,28,29,30,31]},\"id\":\"14588\",\"type\":\"DaysTicker\"},{\"attributes\":{},\"id\":\"14564\",\"type\":\"Selection\"},{\"attributes\":{},\"id\":\"14551\",\"type\":\"PanTool\"},{\"attributes\":{\"axis\":{\"id\":\"14542\"},\"grid_line_color\":null,\"ticker\":null},\"id\":\"14545\",\"type\":\"Grid\"},{\"attributes\":{},\"id\":\"14575\",\"type\":\"AllLabels\"},{\"attributes\":{\"days\":[1,4,7,10,13,16,19,22,25,28]},\"id\":\"14589\",\"type\":\"DaysTicker\"},{\"attributes\":{\"data\":{\"amount\":{\"__ndarray__\":\"mpmZmZmZB0DD9Shcj8L1PwAAAAAA4GVAAAAAAADQdECamZmZmRknQGZmZmZmZgRA16NwPQpXKUCF61G4HoX7P4XrUbgehQtASOF6FK7HJEBcj8L1KFwVQIXrUbgehSVAexSuR+F6F0BmZmZmZqYyQNejcD0K1wVAXI/C9ShcMUDNzMzMzEwyQDMzMzMzMyhAAAAAAAC8nEB7FK5H4XoCQHE9Ctej8DFApHA9CtejJUDXo3A9CtcpQFyPwvUoXCRAPQrXo3C9JEDNzMzMzEwoQClcj8L1KBtA7FG4HoXrJEBxPQrXo3DtP6RwPQrXIzJAmpmZmZmZM0A9CtejcD0EQKRwPQrXowhA9ihcj8L1+D8AAAAAANSQQDMzMzMzMzVAH4XrUbgeNkD2KFyPwvX8PzMzMzMzszBA16NwPQrX/z+PwvUoXI8SQMP1KFyPwglAuB6F61E4M0AzMzMzM7MkQLgehetROCRAH4XrUbgeEkBSuB6F61H8P1yPwvUo3CxAFK5H4XqUJEAAAAAAAFicQOF6FK5H4QxAuB6F61G4JEDD9Shcj0IwQClcj8L1KDBAcT0K16Nw5T+PwvUoXI8nQHE9Ctej8CRAXI/C9Shc/z9mZmZmZuYsQHsUrkfhujFAMzMzMzMzK0CF61G4HoUTQAAAAAAAQF5AcT0K16NwIkDXo3A9ChcyQClcj8L1KCZAAAAAAABAXUAAAAAAAAAGQNejcD0K1/M/KVyPwvWoJUDD9Shcj8IPQAAAAAAAcI5ASOF6FK6HMUBxPQrXo3AHQD0K16NwPfo/H4XrUbgeDUAfhetRuB4dQD0K16NwPSRAUrgeheuRMUCPwvUoXA8jQGZmZmZmZhJAuB6F61H4MUAK16NwPYoyQBSuR+F6FCRAexSuR+F6JkCF61G4HgUmQEjhehSuxyVAAAAAAACgfEDsUbgehescQI/C9ShcjyRAAAAAAABgkkAzMzMzM7MmQK5H4XoUrhJAAAAAAADANEDsUbgehesVQBSuR+F61DJASOF6FK5HDUC4HoXrUTgpQMP1KFyPwvk/ZmZmZmbmJEC4HoXrUbgkQMP1KFyPQiZAmpmZmZmZG0A9CtejcD0kQEjhehSuxyRAw/UoXI/CL0DD9Shcj8L1P3E9CtejcBZAw/UoXI9CJUCkcD0K1yMvQM3MzMzMzBpAhetRuB6FMkBI4XoUrkcnQM3MzMzMzCRAUrgehetRCEBxPQrXo3AZQAAAAAAAAPw/AQAAAACkm0AUrkfhehTmP1K4HoXrUfw/uB6F61E4MUDD9Shcj8IJQNejcD0K1/s/AAAAAAAIkkA9CtejcD0lQB+F61G4HgFA9ihcj8L1BkAUrkfhehT+P3E9CtejcBFAMzMzMzMz+z+uR+F6FK4LQMP1KFyPwilAAAAAAACAKEA=\",\"dtype\":\"float64\",\"order\":\"little\",\"shape\":[133]},\"date\":{\"__ndarray__\":\"AAADHkALdkIAgEEFUwx2QgAAE7riDHZCAAC8uVcNdkIAgENcdg12QgAAgpwGEHZCAIAtdDAQdkIAACtLShB2QgAAqwp0EHZCAIDs08UQdkIAAMaLdxF2QgCABdocE3ZCAACQQk8TdkIAgElT+hN2QgAAVsI6GXZCAADVqUwZdkIAgOfvgRp2QgCA/V3zGnZCAIDqDwQbdkIAAJGSoBt2QgCApfXSHnZCAIBGOMEfdkIAgB5t3B92QgAA1ccdIHZCAAAMJx4gdkIAgOXJlCB2QgCAR3MBIXZCAAAVdg8idkIAAP8czSN2QgCA1/oTJHZCAADOu9UldkIAgHuWMCd2QgCAiqSLJ3ZCAID2auUndkIAgKqAmCh2QgCA4VuQLXZCAAA9K24xdkIAAJlX3TR2QgAAHO8XNXZCAIApGBA2dkIAAD1qATd2QgAAmAV0N3ZCAIDU5Z05dkIAgAkhqzl2QgCA2kX2OXZCAIDrrTs6dkIAABbMfDp2QgAA7rE2O3ZCAACMJyc8dkIAAALnczx2QgAA3peWPHZCAADdWCE9dkIAgEaMdj52QgCAmRWLPnZCAAAzNHo/dkIAgH14FUB2QgAAUtEXQHZCAIBiliRCdkIAgEERhEJ2QgCA3P+aQnZCAIDeB+ZCdkIAgNW1J0N2QgCA23vmRHZCAIAmpDtFdkIAAJddfUV2QgAA6GMWRnZCAAC81gVHdkIAACBIIUd2QgAAItKAR3ZCAIBIR/pIdkIAgNiId0p2QgAA7vnKSnZCAIDO6tdLdkIAgH91fE12QgCAdG9fTnZCAABp5uZOdkIAAAHl8E52QgCAD+FvT3ZCAABWFW9QdkIAgF/VR1F2QgAAa5YEUnZCAADBdvpSdkIAgJpmeVN2QgAAtyp3VHZCAIDXHI9UdkIAgJqa+Vh2QgCAJIIjWXZCAAAxN6BZdkIAgO4sA1p2QgAAhrWOW3ZCAIC40VpcdkIAgAb6Zlx2QgCAX9jAXHZCAIBBzvtddkIAAAMD/F92QgAAq898YHZCAAALuvpgdkIAAJjajWF2QgAAY2rxYXZCAAC6pJZidkIAAEBNgmZ2QgAAcgOGZnZCAAAARY1ndkIAAKRwpGd2QgAAvCFmaXZCAAD2eptpdkIAgJzaKGp2QgAAYoLza3ZCAACbGMlsdkIAAE9I0Wx2QgAAIt4XbXZCAIAey5ltdkIAAHS73W12QgAAyXgGb3ZCAIDqBdJvdkIAAHZwFXB2QgCAXkVkcHZCAIB7ZQJydkIAgM4jmnN2QgAA3toadXZCAIClzDF1dkIAAFqjj3V2QgCAOgWZd3ZCAABfk3d6dkIAgIa2knt2QgAAAo/Se3ZCAAByoNN7dkIAgLcfynx2QgAAygWSfXZCAIAO2w9/dkIAAIfVP392QgCA5LVAf3ZCAIBPUJB/dkI=\",\"dtype\":\"float64\",\"order\":\"little\",\"shape\":[133]}},\"selected\":{\"id\":\"14564\"},\"selection_policy\":{\"id\":\"14598\"}},\"id\":\"14563\",\"type\":\"ColumnDataSource\"},{\"attributes\":{\"end\":1546071115000.0,\"reset_end\":1546071115000.0,\"reset_start\":1514848510000.0,\"start\":1514848510000.0,\"tags\":[[[\"date\",\"date\",null]]]},\"id\":\"14530\",\"type\":\"Range1d\"},{\"attributes\":{\"callback\":null,\"formatters\":{\"@{date}\":\"datetime\"},\"renderers\":[{\"id\":\"14569\"}],\"tags\":[\"hv_created\"],\"tooltips\":[[\"date\",\"@{date}{%F %T}\"],[\"amount\",\"@{amount}\"]]},\"id\":\"14532\",\"type\":\"HoverTool\"},{\"attributes\":{\"source\":{\"id\":\"14563\"}},\"id\":\"14570\",\"type\":\"CDSView\"},{\"attributes\":{},\"id\":\"14554\",\"type\":\"ResetTool\"},{\"attributes\":{\"months\":[0,1,2,3,4,5,6,7,8,9,10,11]},\"id\":\"14592\",\"type\":\"MonthsTicker\"},{\"attributes\":{\"margin\":[5,5,5,5],\"name\":\"HSpacer20667\",\"sizing_mode\":\"stretch_width\"},\"id\":\"14529\",\"type\":\"Spacer\"},{\"attributes\":{},\"id\":\"14547\",\"type\":\"BasicTicker\"},{\"attributes\":{\"axis_label\":\"amount\",\"formatter\":{\"id\":\"14577\"},\"major_label_policy\":{\"id\":\"14575\"},\"ticker\":{\"id\":\"14547\"}},\"id\":\"14546\",\"type\":\"LinearAxis\"},{\"attributes\":{\"mantissas\":[1,2,5],\"max_interval\":500.0,\"num_minor_ticks\":0},\"id\":\"14585\",\"type\":\"AdaptiveTicker\"},{\"attributes\":{\"line_color\":\"#30a2da\",\"line_width\":2,\"x\":{\"field\":\"date\"},\"y\":{\"field\":\"amount\"}},\"id\":\"14571\",\"type\":\"Line\"},{\"attributes\":{\"line_color\":\"#30a2da\",\"line_width\":2,\"x\":{\"field\":\"date\"},\"y\":{\"field\":\"amount\"}},\"id\":\"14566\",\"type\":\"Line\"},{\"attributes\":{},\"id\":\"14596\",\"type\":\"YearsTicker\"},{\"attributes\":{\"base\":24,\"mantissas\":[1,2,4,6,8,12],\"max_interval\":43200000.0,\"min_interval\":3600000.0,\"num_minor_ticks\":0},\"id\":\"14587\",\"type\":\"AdaptiveTicker\"},{\"attributes\":{\"line_alpha\":0.1,\"line_color\":\"#30a2da\",\"line_width\":2,\"x\":{\"field\":\"date\"},\"y\":{\"field\":\"amount\"}},\"id\":\"14567\",\"type\":\"Line\"},{\"attributes\":{\"bottom_units\":\"screen\",\"fill_alpha\":0.5,\"fill_color\":\"lightgrey\",\"left_units\":\"screen\",\"level\":\"overlay\",\"line_alpha\":1.0,\"line_color\":\"black\",\"line_dash\":[4,4],\"line_width\":2,\"right_units\":\"screen\",\"syncable\":false,\"top_units\":\"screen\"},\"id\":\"14555\",\"type\":\"BoxAnnotation\"},{\"attributes\":{},\"id\":\"14574\",\"type\":\"DatetimeTickFormatter\"},{\"attributes\":{},\"id\":\"14552\",\"type\":\"WheelZoomTool\"},{\"attributes\":{\"months\":[0,4,8]},\"id\":\"14594\",\"type\":\"MonthsTicker\"},{\"attributes\":{\"num_minor_ticks\":5,\"tickers\":[{\"id\":\"14585\"},{\"id\":\"14586\"},{\"id\":\"14587\"},{\"id\":\"14588\"},{\"id\":\"14589\"},{\"id\":\"14590\"},{\"id\":\"14591\"},{\"id\":\"14592\"},{\"id\":\"14593\"},{\"id\":\"14594\"},{\"id\":\"14595\"},{\"id\":\"14596\"}]},\"id\":\"14543\",\"type\":\"DatetimeTicker\"},{\"attributes\":{\"days\":[1,8,15,22]},\"id\":\"14590\",\"type\":\"DaysTicker\"},{\"attributes\":{},\"id\":\"14538\",\"type\":\"LinearScale\"},{\"attributes\":{\"overlay\":{\"id\":\"14555\"}},\"id\":\"14553\",\"type\":\"BoxZoomTool\"},{\"attributes\":{\"axis\":{\"id\":\"14546\"},\"dimension\":1,\"grid_line_color\":null,\"ticker\":null},\"id\":\"14549\",\"type\":\"Grid\"},{\"attributes\":{\"active_multi\":null,\"tools\":[{\"id\":\"14532\"},{\"id\":\"14550\"},{\"id\":\"14551\"},{\"id\":\"14552\"},{\"id\":\"14553\"},{\"id\":\"14554\"}]},\"id\":\"14556\",\"type\":\"Toolbar\"},{\"attributes\":{\"line_alpha\":0.2,\"line_color\":\"#30a2da\",\"line_width\":2,\"x\":{\"field\":\"date\"},\"y\":{\"field\":\"amount\"}},\"id\":\"14568\",\"type\":\"Line\"},{\"attributes\":{},\"id\":\"14540\",\"type\":\"LinearScale\"}],\"root_ids\":[\"14528\"]},\"title\":\"Bokeh Application\",\"version\":\"2.3.2\"}};\n",
       "    var render_items = [{\"docid\":\"9e360303-85d0-4ec6-85cc-9428976a3f34\",\"root_ids\":[\"14528\"],\"roots\":{\"14528\":\"f0162445-0d98-4393-9aef-41c4405bfb6f\"}}];\n",
       "    root.Bokeh.embed.embed_items_notebook(docs_json, render_items);\n",
       "  }\n",
       "  if (root.Bokeh !== undefined && root.Bokeh.Panel !== undefined) {\n",
       "    embed_document(root);\n",
       "  } else {\n",
       "    var attempts = 0;\n",
       "    var timer = setInterval(function(root) {\n",
       "      if (root.Bokeh !== undefined && root.Bokeh.Panel !== undefined) {\n",
       "        clearInterval(timer);\n",
       "        embed_document(root);\n",
       "      } else if (document.readyState == \"complete\") {\n",
       "        attempts++;\n",
       "        if (attempts > 100) {\n",
       "          clearInterval(timer);\n",
       "          console.log(\"Bokeh: ERROR: Unable to run BokehJS code because BokehJS library is missing\");\n",
       "        }\n",
       "      }\n",
       "    }, 10, root)\n",
       "  }\n",
       "})(window);</script>"
      ],
      "text/plain": [
       ":Curve   [date]   (amount)"
      ]
     },
     "execution_count": 175,
     "metadata": {
      "application/vnd.holoviews_exec.v0+json": {
       "id": "14528"
      }
     },
     "output_type": "execute_result"
    }
   ],
   "source": [
    "# Plot for cardholder 18\n",
    "cardholder_18_plot = cardholders_2_18_df[cardholders_2_18_df['cardholder_id'] == 18].hvplot.line(x = 'date', y = 'amount')\n",
    "cardholder_18_plot"
   ]
  },
  {
   "cell_type": "code",
   "execution_count": 176,
   "metadata": {},
   "outputs": [
    {
     "data": {},
     "metadata": {},
     "output_type": "display_data"
    },
    {
     "data": {
      "application/vnd.holoviews_exec.v0+json": "",
      "text/html": [
       "<div id='14734'>\n",
       "\n",
       "\n",
       "\n",
       "\n",
       "\n",
       "  <div class=\"bk-root\" id=\"32d02078-3d26-4735-ba2a-8b5f1e4635ff\" data-root-id=\"14734\"></div>\n",
       "</div>\n",
       "<script type=\"application/javascript\">(function(root) {\n",
       "  function embed_document(root) {\n",
       "    var docs_json = {\"8b0ef384-695f-4085-89da-5967e4cbe846\":{\"defs\":[],\"roots\":{\"references\":[{\"attributes\":{\"children\":[{\"id\":\"14735\"},{\"id\":\"15061\"},{\"id\":\"15488\"},{\"id\":\"15489\"}],\"margin\":[0,0,0,0],\"name\":\"Row20795\"},\"id\":\"14734\",\"type\":\"Row\"},{\"attributes\":{},\"id\":\"14773\",\"type\":\"AllLabels\"},{\"attributes\":{\"data\":{\"amount\":{\"__ndarray__\":\"SOF6FK5H9T+kcD0K16MlQArXo3A9SjFAUrgehevRJUCkcD0K16MxQClcj8L1KCdAcT0K16PwJEBI4XoUrscmQI/C9Shcj/Y/UrgehetRMkBI4XoUrscuQNejcD0K1xtAKVyPwvUo8D+F61G4HoUyQI/C9ShcDzFAZmZmZmZmEECPwvUoXA8rQIXrUbgehRBAKVyPwvUoJEBSuB6F61EOQHsUrkfhei5AcT0K16NwJkDNzMzMzEwkQD0K16NwPfo/SOF6FK5HG0AfhetRuJ4yQEjhehSuR/E/AAAAAAAAGkCF61G4HoUmQOxRuB6FayRAhetRuB6FJEAfhetRuJ4kQGZmZmZmZuY/MzMzMzMzGkC4HoXrUTgoQFK4HoXr0SVAXI/C9ShcC0BmZmZmZuYyQHsUrkfhegpACtejcD0K8z8pXI/C9Sj8P+xRuB6F6y9Aj8L1KFwPKkB7FK5H4XosQGZmZmZm5i9A9ihcj8L1MEDNzMzMzEwlQIXrUbgehRRASOF6FK5HKUC4HoXrUbj6PwAAAAAAQDFA16NwPQrXE0CuR+F6FC4kQIXrUbgehSRAH4XrUbgeE0BxPQrXo3ALQD0K16Nw/TBApHA9CtejHUAK16NwPQoJQClcj8L1qCRAKVyPwvUoMUBcj8L1KFwQQM3MzMzMjDBAj8L1KFyPE0AUrkfhepQkQMP1KFyPgjNAH4XrUbgeJEDsUbgehesFQPYoXI/C9SJAmpmZmZmZEEDsUbgehWsuQM3MzMzMzBJAuB6F61G4MUBmZmZmZmYIQEjhehSuR/k/CtejcD0KJ0Bcj8L1KFwPQDMzMzMzsyZAuB6F61G48j8K16NwPQokQFyPwvUoXAdA16NwPQpXJEAfhetRuB4qQNejcD0K1zBAH4XrUbgeB0BmZmZmZuYkQKRwPQrXozBAexSuR+F6F0BSuB6F69EmQAAAAAAAAAJAZmZmZmZmMEApXI/C9SgkQClcj8L1KBFASOF6FK7HKEBcj8L1KFwzQB+F61G4HiRAw/UoXI/CJkBmZmZmZmYkQI/C9ShcDyZA\",\"dtype\":\"float64\",\"order\":\"little\",\"shape\":[99]},\"date\":{\"__ndarray__\":\"AIDyF5QMdkIAAJgzngx2QgCAK8QSDXZCAAA8nfgNdkIAgAmK2g92QgCA+dEAEXZCAIAF5iASdkIAgAPaIxN2QgCA04XNFXZCAAA1Qj0XdkIAgBx8VRd2QgCAjUMsHHZCAACI9/wcdkIAAILzZR12QgCAM1RtH3ZCAIBgiZcfdkIAgCrD8SB2QgCABIwXIXZCAACViEYhdkIAAN+0iSF2QgAAGUaGInZCAADQdqcjdkIAgLD3HyR2QgCAS4ZGJHZCAACtNdMkdkIAAMqfNSd2QgCA7/UQKHZCAIANrw8qdkIAgGlnUCp2QgAANqH/K3ZCAIAAuRQtdkIAAIQxxS12QgCAGQMrMXZCAACvqNMxdkIAAFFILDN2QgCAlSFcM3ZCAADKsHY0dkIAABIGTDV2QgCA3qZeNXZCAABu2p84dkIAACEGPjl2QgCAEwtcOnZCAABLWaA7dkIAgH7asTt2QgAATDIgPHZCAADncPo8dkIAACo0Zz12QgCApdnhP3ZCAAC/rytAdkIAgCB2RkF2QgCAuvBeQXZCAIB2GkBDdkIAgAmCPkV2QgAAUo+BRXZCAAAP3SBGdkIAADJQt0Z2QgCAhqrYRnZCAIC02FNHdkIAAGP4pUd2QgCAiuYfTHZCAACCPu9NdkIAgNeTqFB2QgCA+3EAUXZCAACy2oZTdkIAAA96G1R2QgCAX0IJVXZCAACjoEpWdkIAAMorTFd2QgAAr1ZQV3ZCAAA4kD1cdkIAAC81uV12QgAAY9jNXXZCAIDjyDZedkIAABRohl92QgAA0I+dX3ZCAACqnAtgdkIAAFE462B2QgAAvPtCYnZCAICZv2FjdkIAgPudV2R2QgAAyibkZHZCAADLzCdmdkIAgLUVqmd2QgAAvxJYanZCAICyE4hrdkIAAEjoPWx2QgCAkctFbHZCAAAzOmVsdkIAgCPUA252QgAAUvIqcHZCAAB55llxdkIAAMLvNHZ2QgCAYm3SdnZCAACLssl4dkIAgA2mY3p2QgAApeyCenZCAIAqLHR7dkIAgBgEhH12QgCAOQlXf3ZC\",\"dtype\":\"float64\",\"order\":\"little\",\"shape\":[99]}},\"selected\":{\"id\":\"14777\"},\"selection_policy\":{\"id\":\"14814\"}},\"id\":\"14776\",\"type\":\"ColumnDataSource\"},{\"attributes\":{\"line_alpha\":0.1,\"line_color\":\"#30a2da\",\"line_width\":2,\"x\":{\"field\":\"date\"},\"y\":{\"field\":\"amount\"}},\"id\":\"14997\",\"type\":\"Line\"},{\"attributes\":{\"end\":1,\"js_property_callbacks\":{\"change:value\":[{\"id\":\"15542\"}]},\"margin\":[0,20,20,20],\"min_width\":250,\"show_value\":false,\"start\":0,\"tooltips\":false,\"value\":0,\"width\":250},\"id\":\"15494\",\"type\":\"Slider\"},{\"attributes\":{\"months\":[0,4,8]},\"id\":\"15049\",\"type\":\"MonthsTicker\"},{\"attributes\":{\"children\":[[{\"id\":\"14740\"},0,0],[{\"id\":\"14963\"},0,1]]},\"id\":\"15056\",\"type\":\"GridBox\"},{\"attributes\":{\"line_alpha\":0.2,\"line_color\":\"#30a2da\",\"line_width\":2,\"x\":{\"field\":\"date\"},\"y\":{\"field\":\"amount\"}},\"id\":\"14998\",\"type\":\"Line\"},{\"attributes\":{\"num_minor_ticks\":5,\"tickers\":[{\"id\":\"14801\"},{\"id\":\"14802\"},{\"id\":\"14803\"},{\"id\":\"14804\"},{\"id\":\"14805\"},{\"id\":\"14806\"},{\"id\":\"14807\"},{\"id\":\"14808\"},{\"id\":\"14809\"},{\"id\":\"14810\"},{\"id\":\"14811\"},{\"id\":\"14812\"}]},\"id\":\"14750\",\"type\":\"DatetimeTicker\"},{\"attributes\":{\"mantissas\":[1,2,5],\"max_interval\":500.0,\"num_minor_ticks\":0},\"id\":\"14801\",\"type\":\"AdaptiveTicker\"},{\"attributes\":{\"margin\":[5,5,5,5],\"name\":\"VSpacer20809\",\"sizing_mode\":\"stretch_height\"},\"id\":\"15495\",\"type\":\"Spacer\"},{\"attributes\":{\"end\":2022.833,\"reset_end\":2022.833,\"reset_start\":-183.163,\"start\":-183.163,\"tags\":[[[\"amount\",\"amount\",null]]]},\"id\":\"14737\",\"type\":\"Range1d\"},{\"attributes\":{},\"id\":\"14775\",\"type\":\"BasicTickFormatter\"},{\"attributes\":{\"line_color\":\"#30a2da\",\"line_width\":2,\"x\":{\"field\":\"date\"},\"y\":{\"field\":\"amount\"}},\"id\":\"15001\",\"type\":\"Line\"},{\"attributes\":{\"base\":60,\"mantissas\":[1,2,5,10,15,20,30],\"max_interval\":1800000.0,\"min_interval\":1000.0,\"num_minor_ticks\":0},\"id\":\"14802\",\"type\":\"AdaptiveTicker\"},{\"attributes\":{\"data_source\":{\"id\":\"14993\"},\"glyph\":{\"id\":\"14996\"},\"hover_glyph\":null,\"muted_glyph\":{\"id\":\"14998\"},\"nonselection_glyph\":{\"id\":\"14997\"},\"selection_glyph\":{\"id\":\"15001\"},\"view\":{\"id\":\"15000\"}},\"id\":\"14999\",\"type\":\"GlyphRenderer\"},{\"attributes\":{\"base\":24,\"mantissas\":[1,2,4,6,8,12],\"max_interval\":43200000.0,\"min_interval\":3600000.0,\"num_minor_ticks\":0},\"id\":\"14803\",\"type\":\"AdaptiveTicker\"},{\"attributes\":{},\"id\":\"14812\",\"type\":\"YearsTicker\"},{\"attributes\":{\"source\":{\"id\":\"14993\"}},\"id\":\"15000\",\"type\":\"CDSView\"},{\"attributes\":{\"axis_label\":\"date\",\"formatter\":{\"id\":\"14772\"},\"major_label_policy\":{\"id\":\"14770\"},\"ticker\":{\"id\":\"14750\"}},\"id\":\"14749\",\"type\":\"DatetimeAxis\"},{\"attributes\":{\"months\":[0,1,2,3,4,5,6,7,8,9,10,11]},\"id\":\"14808\",\"type\":\"MonthsTicker\"},{\"attributes\":{\"toolbars\":[{\"id\":\"14763\"},{\"id\":\"14986\"}],\"tools\":[{\"id\":\"14738\"},{\"id\":\"14757\"},{\"id\":\"14758\"},{\"id\":\"14759\"},{\"id\":\"14760\"},{\"id\":\"14761\"},{\"id\":\"14962\"},{\"id\":\"14980\"},{\"id\":\"14981\"},{\"id\":\"14982\"},{\"id\":\"14983\"},{\"id\":\"14984\"}]},\"id\":\"15057\",\"type\":\"ProxyToolbar\"},{\"attributes\":{\"days\":[1,15]},\"id\":\"14807\",\"type\":\"DaysTicker\"},{\"attributes\":{},\"id\":\"14777\",\"type\":\"Selection\"},{\"attributes\":{\"below\":[{\"id\":\"14749\"}],\"center\":[{\"id\":\"14752\"},{\"id\":\"14756\"}],\"height\":300,\"left\":[{\"id\":\"14753\"}],\"margin\":null,\"min_border_bottom\":10,\"min_border_left\":10,\"min_border_right\":10,\"min_border_top\":10,\"renderers\":[{\"id\":\"14782\"},{\"id\":\"14791\"}],\"sizing_mode\":\"fixed\",\"title\":{\"id\":\"14741\"},\"toolbar\":{\"id\":\"14763\"},\"toolbar_location\":null,\"width\":700,\"x_range\":{\"id\":\"14736\"},\"x_scale\":{\"id\":\"14745\"},\"y_range\":{\"id\":\"14737\"},\"y_scale\":{\"id\":\"14747\"}},\"id\":\"14740\",\"subtype\":\"Figure\",\"type\":\"Plot\"},{\"attributes\":{\"days\":[1,2,3,4,5,6,7,8,9,10,11,12,13,14,15,16,17,18,19,20,21,22,23,24,25,26,27,28,29,30,31]},\"id\":\"14804\",\"type\":\"DaysTicker\"},{\"attributes\":{},\"id\":\"14786\",\"type\":\"Selection\"},{\"attributes\":{\"days\":[1,4,7,10,13,16,19,22,25,28]},\"id\":\"14805\",\"type\":\"DaysTicker\"},{\"attributes\":{},\"id\":\"15002\",\"type\":\"AllLabels\"},{\"attributes\":{\"end\":1546071115000.0,\"reset_end\":1546071115000.0,\"reset_start\":1514848510000.0,\"start\":1514848510000.0,\"tags\":[[[\"date\",\"date\",null]]]},\"id\":\"14736\",\"type\":\"Range1d\"},{\"attributes\":{\"days\":[1,8,15,22]},\"id\":\"14806\",\"type\":\"DaysTicker\"},{\"attributes\":{\"line_color\":\"#fc4f30\",\"line_width\":2,\"x\":{\"field\":\"date\"},\"y\":{\"field\":\"amount\"}},\"id\":\"14788\",\"type\":\"Line\"},{\"attributes\":{\"axis_label\":\"amount\",\"formatter\":{\"id\":\"14775\"},\"major_label_policy\":{\"id\":\"14773\"},\"ticker\":{\"id\":\"14754\"}},\"id\":\"14753\",\"type\":\"LinearAxis\"},{\"attributes\":{\"months\":[0,6]},\"id\":\"14811\",\"type\":\"MonthsTicker\"},{\"attributes\":{\"text_color\":\"black\",\"text_font_size\":\"12pt\"},\"id\":\"14741\",\"type\":\"Title\"},{\"attributes\":{\"months\":[0,2,4,6,8,10]},\"id\":\"14809\",\"type\":\"MonthsTicker\"},{\"attributes\":{\"margin\":[5,5,5,5],\"name\":\"HSpacer20811\",\"sizing_mode\":\"stretch_width\"},\"id\":\"14735\",\"type\":\"Spacer\"},{\"attributes\":{\"margin\":[5,5,5,5],\"name\":\"HSpacer20812\",\"sizing_mode\":\"stretch_width\"},\"id\":\"15488\",\"type\":\"Spacer\"},{\"attributes\":{\"callback\":null,\"formatters\":{\"@{date}\":\"datetime\"},\"renderers\":[{\"id\":\"14782\"},{\"id\":\"14791\"}],\"tags\":[\"hv_created\"],\"tooltips\":[[\"date\",\"@{date}{%F %T}\"],[\"amount\",\"@{amount}\"]]},\"id\":\"14738\",\"type\":\"HoverTool\"},{\"attributes\":{\"months\":[0,4,8]},\"id\":\"14810\",\"type\":\"MonthsTicker\"},{\"attributes\":{},\"id\":\"14745\",\"type\":\"LinearScale\"},{\"attributes\":{\"axis_label\":\"date\",\"formatter\":{\"id\":\"15004\"},\"major_label_policy\":{\"id\":\"15002\"},\"ticker\":{\"id\":\"14973\"}},\"id\":\"14972\",\"type\":\"DatetimeAxis\"},{\"attributes\":{},\"id\":\"14814\",\"type\":\"UnionRenderers\"},{\"attributes\":{\"children\":[{\"id\":\"15492\"}],\"css_classes\":[\"panel-widget-box\"],\"margin\":[5,5,5,5],\"name\":\"WidgetBox20796\"},\"id\":\"15491\",\"type\":\"Column\"},{\"attributes\":{\"num_minor_ticks\":5,\"tickers\":[{\"id\":\"15040\"},{\"id\":\"15041\"},{\"id\":\"15042\"},{\"id\":\"15043\"},{\"id\":\"15044\"},{\"id\":\"15045\"},{\"id\":\"15046\"},{\"id\":\"15047\"},{\"id\":\"15048\"},{\"id\":\"15049\"},{\"id\":\"15050\"},{\"id\":\"15051\"}]},\"id\":\"14973\",\"type\":\"DatetimeTicker\"},{\"attributes\":{\"children\":[{\"id\":\"15490\"},{\"id\":\"15491\"},{\"id\":\"15495\"}],\"margin\":[0,0,0,0],\"name\":\"Column20810\"},\"id\":\"15489\",\"type\":\"Column\"},{\"attributes\":{\"axis\":{\"id\":\"14749\"},\"grid_line_color\":null,\"ticker\":null},\"id\":\"14752\",\"type\":\"Grid\"},{\"attributes\":{\"line_alpha\":0.1,\"line_color\":\"#fc4f30\",\"line_width\":2,\"x\":{\"field\":\"date\"},\"y\":{\"field\":\"amount\"}},\"id\":\"14789\",\"type\":\"Line\"},{\"attributes\":{},\"id\":\"14747\",\"type\":\"LinearScale\"},{\"attributes\":{\"line_alpha\":0.2,\"line_color\":\"#fc4f30\",\"line_width\":2,\"x\":{\"field\":\"date\"},\"y\":{\"field\":\"amount\"}},\"id\":\"14790\",\"type\":\"Line\"},{\"attributes\":{},\"id\":\"15005\",\"type\":\"AllLabels\"},{\"attributes\":{},\"id\":\"14982\",\"type\":\"WheelZoomTool\"},{\"attributes\":{\"data_source\":{\"id\":\"14785\"},\"glyph\":{\"id\":\"14788\"},\"hover_glyph\":null,\"muted_glyph\":{\"id\":\"14790\"},\"nonselection_glyph\":{\"id\":\"14789\"},\"selection_glyph\":{\"id\":\"14793\"},\"view\":{\"id\":\"14792\"}},\"id\":\"14791\",\"type\":\"GlyphRenderer\"},{\"attributes\":{\"axis\":{\"id\":\"14753\"},\"dimension\":1,\"grid_line_color\":null,\"ticker\":null},\"id\":\"14756\",\"type\":\"Grid\"},{\"attributes\":{},\"id\":\"14758\",\"type\":\"PanTool\"},{\"attributes\":{},\"id\":\"14970\",\"type\":\"LinearScale\"},{\"attributes\":{},\"id\":\"14981\",\"type\":\"PanTool\"},{\"attributes\":{\"source\":{\"id\":\"14785\"}},\"id\":\"14792\",\"type\":\"CDSView\"},{\"attributes\":{},\"id\":\"14759\",\"type\":\"WheelZoomTool\"},{\"attributes\":{\"text_color\":\"black\",\"text_font_size\":\"12pt\"},\"id\":\"14964\",\"type\":\"Title\"},{\"attributes\":{},\"id\":\"15004\",\"type\":\"DatetimeTickFormatter\"},{\"attributes\":{\"axis\":{\"id\":\"14976\"},\"dimension\":1,\"grid_line_color\":null,\"ticker\":null},\"id\":\"14979\",\"type\":\"Grid\"},{\"attributes\":{\"line_color\":\"#fc4f30\",\"line_width\":2,\"x\":{\"field\":\"date\"},\"y\":{\"field\":\"amount\"}},\"id\":\"14793\",\"type\":\"Line\"},{\"attributes\":{\"callback\":null,\"formatters\":{\"@{date}\":\"datetime\"},\"renderers\":[{\"id\":\"14999\"}],\"tags\":[\"hv_created\"],\"tooltips\":[[\"date\",\"@{date}\"],[\"amount\",\"@{amount}\"]]},\"id\":\"14962\",\"type\":\"HoverTool\"},{\"attributes\":{},\"id\":\"14754\",\"type\":\"BasicTicker\"},{\"attributes\":{\"below\":[{\"id\":\"14972\"}],\"center\":[{\"id\":\"14975\"},{\"id\":\"14979\"}],\"height\":300,\"left\":[{\"id\":\"14976\"}],\"margin\":null,\"min_border_bottom\":10,\"min_border_left\":10,\"min_border_right\":10,\"min_border_top\":10,\"renderers\":[{\"id\":\"14999\"}],\"sizing_mode\":\"fixed\",\"title\":{\"id\":\"14964\"},\"toolbar\":{\"id\":\"14986\"},\"toolbar_location\":null,\"width\":700,\"x_range\":{\"id\":\"14736\"},\"x_scale\":{\"id\":\"14968\"},\"y_range\":{\"id\":\"14737\"},\"y_scale\":{\"id\":\"14970\"}},\"id\":\"14963\",\"subtype\":\"Figure\",\"type\":\"Plot\"},{\"attributes\":{\"data_source\":{\"id\":\"14776\"},\"glyph\":{\"id\":\"14779\"},\"hover_glyph\":null,\"muted_glyph\":{\"id\":\"14781\"},\"nonselection_glyph\":{\"id\":\"14780\"},\"selection_glyph\":{\"id\":\"14784\"},\"view\":{\"id\":\"14783\"}},\"id\":\"14782\",\"type\":\"GlyphRenderer\"},{\"attributes\":{\"axis_label\":\"amount\",\"formatter\":{\"id\":\"15007\"},\"major_label_policy\":{\"id\":\"15005\"},\"ticker\":{\"id\":\"14977\"}},\"id\":\"14976\",\"type\":\"LinearAxis\"},{\"attributes\":{},\"id\":\"15007\",\"type\":\"BasicTickFormatter\"},{\"attributes\":{},\"id\":\"14757\",\"type\":\"SaveTool\"},{\"attributes\":{},\"id\":\"14968\",\"type\":\"LinearScale\"},{\"attributes\":{\"axis\":{\"id\":\"14972\"},\"grid_line_color\":null,\"ticker\":null},\"id\":\"14975\",\"type\":\"Grid\"},{\"attributes\":{\"overlay\":{\"id\":\"14762\"}},\"id\":\"14760\",\"type\":\"BoxZoomTool\"},{\"attributes\":{},\"id\":\"14761\",\"type\":\"ResetTool\"},{\"attributes\":{},\"id\":\"14977\",\"type\":\"BasicTicker\"},{\"attributes\":{},\"id\":\"14816\",\"type\":\"UnionRenderers\"},{\"attributes\":{\"children\":[{\"id\":\"15493\"},{\"id\":\"15494\"}],\"margin\":[0,0,0,0],\"min_width\":290,\"name\":\"Column20805\",\"width\":290},\"id\":\"15492\",\"type\":\"Column\"},{\"attributes\":{\"toolbar\":{\"id\":\"15057\"},\"toolbar_location\":\"above\"},\"id\":\"15058\",\"type\":\"ToolbarBox\"},{\"attributes\":{},\"id\":\"14980\",\"type\":\"SaveTool\"},{\"attributes\":{\"data\":{\"amount\":{\"__ndarray__\":\"SOF6FK5H9T+kcD0K16MlQArXo3A9SjFAUrgehevRJUCkcD0K16MxQClcj8L1KCdAcT0K16PwJEBI4XoUrscmQI/C9Shcj/Y/UrgehetRMkBI4XoUrscuQNejcD0K1xtAKVyPwvUo8D+F61G4HoUyQI/C9ShcDzFAZmZmZmZmEECPwvUoXA8rQIXrUbgehRBAKVyPwvUoJEBSuB6F61EOQHsUrkfhei5AcT0K16NwJkDNzMzMzEwkQD0K16NwPfo/SOF6FK5HG0AfhetRuJ4yQEjhehSuR/E/AAAAAAAAGkCF61G4HoUmQOxRuB6FayRAhetRuB6FJEAfhetRuJ4kQGZmZmZmZuY/MzMzMzMzGkC4HoXrUTgoQFK4HoXr0SVAXI/C9ShcC0BmZmZmZuYyQHsUrkfhegpACtejcD0K8z8pXI/C9Sj8P+xRuB6F6y9Aj8L1KFwPKkB7FK5H4XosQGZmZmZm5i9A9ihcj8L1MEDNzMzMzEwlQIXrUbgehRRASOF6FK5HKUC4HoXrUbj6PwAAAAAAQDFA16NwPQrXE0CuR+F6FC4kQIXrUbgehSRAH4XrUbgeE0BxPQrXo3ALQD0K16Nw/TBApHA9CtejHUAK16NwPQoJQClcj8L1qCRAKVyPwvUoMUBcj8L1KFwQQM3MzMzMjDBAj8L1KFyPE0AUrkfhepQkQMP1KFyPgjNAH4XrUbgeJEDsUbgehesFQPYoXI/C9SJAmpmZmZmZEEDsUbgehWsuQM3MzMzMzBJAuB6F61G4MUBmZmZmZmYIQEjhehSuR/k/CtejcD0KJ0Bcj8L1KFwPQDMzMzMzsyZAuB6F61G48j8K16NwPQokQFyPwvUoXAdA16NwPQpXJEAfhetRuB4qQNejcD0K1zBAH4XrUbgeB0BmZmZmZuYkQKRwPQrXozBAexSuR+F6F0BSuB6F69EmQAAAAAAAAAJAZmZmZmZmMEApXI/C9SgkQClcj8L1KBFASOF6FK7HKEBcj8L1KFwzQB+F61G4HiRAw/UoXI/CJkBmZmZmZmYkQI/C9ShcDyZA\",\"dtype\":\"float64\",\"order\":\"little\",\"shape\":[99]},\"date\":{\"__ndarray__\":\"AIDyF5QMdkIAAJgzngx2QgCAK8QSDXZCAAA8nfgNdkIAgAmK2g92QgCA+dEAEXZCAIAF5iASdkIAgAPaIxN2QgCA04XNFXZCAAA1Qj0XdkIAgBx8VRd2QgCAjUMsHHZCAACI9/wcdkIAAILzZR12QgCAM1RtH3ZCAIBgiZcfdkIAgCrD8SB2QgCABIwXIXZCAACViEYhdkIAAN+0iSF2QgAAGUaGInZCAADQdqcjdkIAgLD3HyR2QgCAS4ZGJHZCAACtNdMkdkIAAMqfNSd2QgCA7/UQKHZCAIANrw8qdkIAgGlnUCp2QgAANqH/K3ZCAIAAuRQtdkIAAIQxxS12QgCAGQMrMXZCAACvqNMxdkIAAFFILDN2QgCAlSFcM3ZCAADKsHY0dkIAABIGTDV2QgCA3qZeNXZCAABu2p84dkIAACEGPjl2QgCAEwtcOnZCAABLWaA7dkIAgH7asTt2QgAATDIgPHZCAADncPo8dkIAACo0Zz12QgCApdnhP3ZCAAC/rytAdkIAgCB2RkF2QgCAuvBeQXZCAIB2GkBDdkIAgAmCPkV2QgAAUo+BRXZCAAAP3SBGdkIAADJQt0Z2QgCAhqrYRnZCAIC02FNHdkIAAGP4pUd2QgCAiuYfTHZCAACCPu9NdkIAgNeTqFB2QgCA+3EAUXZCAACy2oZTdkIAAA96G1R2QgCAX0IJVXZCAACjoEpWdkIAAMorTFd2QgAAr1ZQV3ZCAAA4kD1cdkIAAC81uV12QgAAY9jNXXZCAIDjyDZedkIAABRohl92QgAA0I+dX3ZCAACqnAtgdkIAAFE462B2QgAAvPtCYnZCAICZv2FjdkIAgPudV2R2QgAAyibkZHZCAADLzCdmdkIAgLUVqmd2QgAAvxJYanZCAICyE4hrdkIAAEjoPWx2QgCAkctFbHZCAAAzOmVsdkIAgCPUA252QgAAUvIqcHZCAAB55llxdkIAAMLvNHZ2QgCAYm3SdnZCAACLssl4dkIAgA2mY3p2QgAApeyCenZCAIAqLHR7dkIAgBgEhH12QgCAOQlXf3ZC\",\"dtype\":\"float64\",\"order\":\"little\",\"shape\":[99]}},\"selected\":{\"id\":\"14994\"},\"selection_policy\":{\"id\":\"15053\"}},\"id\":\"14993\",\"type\":\"ColumnDataSource\"},{\"attributes\":{\"line_alpha\":0.1,\"line_color\":\"#30a2da\",\"line_width\":2,\"x\":{\"field\":\"date\"},\"y\":{\"field\":\"amount\"}},\"id\":\"14780\",\"type\":\"Line\"},{\"attributes\":{\"overlay\":{\"id\":\"14985\"}},\"id\":\"14983\",\"type\":\"BoxZoomTool\"},{\"attributes\":{},\"id\":\"14984\",\"type\":\"ResetTool\"},{\"attributes\":{\"data\":{\"amount\":{\"__ndarray__\":\"mpmZmZmZB0DD9Shcj8L1PwAAAAAA4GVAAAAAAADQdECamZmZmRknQGZmZmZmZgRA16NwPQpXKUCF61G4HoX7P4XrUbgehQtASOF6FK7HJEBcj8L1KFwVQIXrUbgehSVAexSuR+F6F0BmZmZmZqYyQNejcD0K1wVAXI/C9ShcMUDNzMzMzEwyQDMzMzMzMyhAAAAAAAC8nEB7FK5H4XoCQHE9Ctej8DFApHA9CtejJUDXo3A9CtcpQFyPwvUoXCRAPQrXo3C9JEDNzMzMzEwoQClcj8L1KBtA7FG4HoXrJEBxPQrXo3DtP6RwPQrXIzJAmpmZmZmZM0A9CtejcD0EQKRwPQrXowhA9ihcj8L1+D8AAAAAANSQQDMzMzMzMzVAH4XrUbgeNkD2KFyPwvX8PzMzMzMzszBA16NwPQrX/z+PwvUoXI8SQMP1KFyPwglAuB6F61E4M0AzMzMzM7MkQLgehetROCRAH4XrUbgeEkBSuB6F61H8P1yPwvUo3CxAFK5H4XqUJEAAAAAAAFicQOF6FK5H4QxAuB6F61G4JEDD9Shcj0IwQClcj8L1KDBAcT0K16Nw5T+PwvUoXI8nQHE9Ctej8CRAXI/C9Shc/z9mZmZmZuYsQHsUrkfhujFAMzMzMzMzK0CF61G4HoUTQAAAAAAAQF5AcT0K16NwIkDXo3A9ChcyQClcj8L1KCZAAAAAAABAXUAAAAAAAAAGQNejcD0K1/M/KVyPwvWoJUDD9Shcj8IPQAAAAAAAcI5ASOF6FK6HMUBxPQrXo3AHQD0K16NwPfo/H4XrUbgeDUAfhetRuB4dQD0K16NwPSRAUrgeheuRMUCPwvUoXA8jQGZmZmZmZhJAuB6F61H4MUAK16NwPYoyQBSuR+F6FCRAexSuR+F6JkCF61G4HgUmQEjhehSuxyVAAAAAAACgfEDsUbgehescQI/C9ShcjyRAAAAAAABgkkAzMzMzM7MmQK5H4XoUrhJAAAAAAADANEDsUbgehesVQBSuR+F61DJASOF6FK5HDUC4HoXrUTgpQMP1KFyPwvk/ZmZmZmbmJEC4HoXrUbgkQMP1KFyPQiZAmpmZmZmZG0A9CtejcD0kQEjhehSuxyRAw/UoXI/CL0DD9Shcj8L1P3E9CtejcBZAw/UoXI9CJUCkcD0K1yMvQM3MzMzMzBpAhetRuB6FMkBI4XoUrkcnQM3MzMzMzCRAUrgehetRCEBxPQrXo3AZQAAAAAAAAPw/AQAAAACkm0AUrkfhehTmP1K4HoXrUfw/uB6F61E4MUDD9Shcj8IJQNejcD0K1/s/AAAAAAAIkkA9CtejcD0lQB+F61G4HgFA9ihcj8L1BkAUrkfhehT+P3E9CtejcBFAMzMzMzMz+z+uR+F6FK4LQMP1KFyPwilAAAAAAACAKEA=\",\"dtype\":\"float64\",\"order\":\"little\",\"shape\":[133]},\"date\":{\"__ndarray__\":\"AAADHkALdkIAgEEFUwx2QgAAE7riDHZCAAC8uVcNdkIAgENcdg12QgAAgpwGEHZCAIAtdDAQdkIAACtLShB2QgAAqwp0EHZCAIDs08UQdkIAAMaLdxF2QgCABdocE3ZCAACQQk8TdkIAgElT+hN2QgAAVsI6GXZCAADVqUwZdkIAgOfvgRp2QgCA/V3zGnZCAIDqDwQbdkIAAJGSoBt2QgCApfXSHnZCAIBGOMEfdkIAgB5t3B92QgAA1ccdIHZCAAAMJx4gdkIAgOXJlCB2QgCAR3MBIXZCAAAVdg8idkIAAP8czSN2QgCA1/oTJHZCAADOu9UldkIAgHuWMCd2QgCAiqSLJ3ZCAID2auUndkIAgKqAmCh2QgCA4VuQLXZCAAA9K24xdkIAAJlX3TR2QgAAHO8XNXZCAIApGBA2dkIAAD1qATd2QgAAmAV0N3ZCAIDU5Z05dkIAgAkhqzl2QgCA2kX2OXZCAIDrrTs6dkIAABbMfDp2QgAA7rE2O3ZCAACMJyc8dkIAAALnczx2QgAA3peWPHZCAADdWCE9dkIAgEaMdj52QgCAmRWLPnZCAAAzNHo/dkIAgH14FUB2QgAAUtEXQHZCAIBiliRCdkIAgEERhEJ2QgCA3P+aQnZCAIDeB+ZCdkIAgNW1J0N2QgCA23vmRHZCAIAmpDtFdkIAAJddfUV2QgAA6GMWRnZCAAC81gVHdkIAACBIIUd2QgAAItKAR3ZCAIBIR/pIdkIAgNiId0p2QgAA7vnKSnZCAIDO6tdLdkIAgH91fE12QgCAdG9fTnZCAABp5uZOdkIAAAHl8E52QgCAD+FvT3ZCAABWFW9QdkIAgF/VR1F2QgAAa5YEUnZCAADBdvpSdkIAgJpmeVN2QgAAtyp3VHZCAIDXHI9UdkIAgJqa+Vh2QgCAJIIjWXZCAAAxN6BZdkIAgO4sA1p2QgAAhrWOW3ZCAIC40VpcdkIAgAb6Zlx2QgCAX9jAXHZCAIBBzvtddkIAAAMD/F92QgAAq898YHZCAAALuvpgdkIAAJjajWF2QgAAY2rxYXZCAAC6pJZidkIAAEBNgmZ2QgAAcgOGZnZCAAAARY1ndkIAAKRwpGd2QgAAvCFmaXZCAAD2eptpdkIAgJzaKGp2QgAAYoLza3ZCAACbGMlsdkIAAE9I0Wx2QgAAIt4XbXZCAIAey5ltdkIAAHS73W12QgAAyXgGb3ZCAIDqBdJvdkIAAHZwFXB2QgCAXkVkcHZCAIB7ZQJydkIAgM4jmnN2QgAA3toadXZCAIClzDF1dkIAAFqjj3V2QgCAOgWZd3ZCAABfk3d6dkIAgIa2knt2QgAAAo/Se3ZCAAByoNN7dkIAgLcfynx2QgAAygWSfXZCAIAO2w9/dkIAAIfVP392QgCA5LVAf3ZCAIBPUJB/dkI=\",\"dtype\":\"float64\",\"order\":\"little\",\"shape\":[133]}},\"selected\":{\"id\":\"14786\"},\"selection_policy\":{\"id\":\"14816\"}},\"id\":\"14785\",\"type\":\"ColumnDataSource\"},{\"attributes\":{\"line_color\":\"#30a2da\",\"line_width\":2,\"x\":{\"field\":\"date\"},\"y\":{\"field\":\"amount\"}},\"id\":\"14784\",\"type\":\"Line\"},{\"attributes\":{\"margin\":[20,0,0,20],\"name\":\"\",\"style\":{\"white-space\":\"nowrap\"},\"text\":\"cardholder_id: <b>2</b>\",\"width\":250},\"id\":\"15493\",\"type\":\"Div\"},{\"attributes\":{\"line_color\":\"#30a2da\",\"line_width\":2,\"x\":{\"field\":\"date\"},\"y\":{\"field\":\"amount\"}},\"id\":\"14779\",\"type\":\"Line\"},{\"attributes\":{},\"id\":\"14772\",\"type\":\"DatetimeTickFormatter\"},{\"attributes\":{\"line_alpha\":0.2,\"line_color\":\"#30a2da\",\"line_width\":2,\"x\":{\"field\":\"date\"},\"y\":{\"field\":\"amount\"}},\"id\":\"14781\",\"type\":\"Line\"},{\"attributes\":{},\"id\":\"14994\",\"type\":\"Selection\"},{\"attributes\":{\"children\":[{\"id\":\"15058\"},{\"id\":\"15056\"}]},\"id\":\"15059\",\"type\":\"Column\"},{\"attributes\":{\"line_color\":\"#30a2da\",\"line_width\":2,\"x\":{\"field\":\"date\"},\"y\":{\"field\":\"amount\"}},\"id\":\"14996\",\"type\":\"Line\"},{\"attributes\":{},\"id\":\"15053\",\"type\":\"UnionRenderers\"},{\"attributes\":{},\"id\":\"14770\",\"type\":\"AllLabels\"},{\"attributes\":{\"source\":{\"id\":\"14776\"}},\"id\":\"14783\",\"type\":\"CDSView\"},{\"attributes\":{\"style\":{\"white-space\":\"nowrap\"},\"text\":\"<span style=\\\"color:black;font-family:Arial;font-style:bold;font-weight:bold;font-size:12pt\\\">cardholder_id: 2</span>\",\"width\":450},\"id\":\"15060\",\"type\":\"Div\"},{\"attributes\":{\"active_multi\":null,\"tools\":[{\"id\":\"14962\"},{\"id\":\"14980\"},{\"id\":\"14981\"},{\"id\":\"14982\"},{\"id\":\"14983\"},{\"id\":\"14984\"}]},\"id\":\"14986\",\"type\":\"Toolbar\"},{\"attributes\":{\"children\":[{\"id\":\"15060\"},{\"id\":\"15059\"}]},\"id\":\"15061\",\"type\":\"Column\"},{\"attributes\":{\"active_multi\":null,\"tools\":[{\"id\":\"14738\"},{\"id\":\"14757\"},{\"id\":\"14758\"},{\"id\":\"14759\"},{\"id\":\"14760\"},{\"id\":\"14761\"}]},\"id\":\"14763\",\"type\":\"Toolbar\"},{\"attributes\":{\"bottom_units\":\"screen\",\"fill_alpha\":0.5,\"fill_color\":\"lightgrey\",\"left_units\":\"screen\",\"level\":\"overlay\",\"line_alpha\":1.0,\"line_color\":\"black\",\"line_dash\":[4,4],\"line_width\":2,\"right_units\":\"screen\",\"syncable\":false,\"top_units\":\"screen\"},\"id\":\"14762\",\"type\":\"BoxAnnotation\"},{\"attributes\":{\"bottom_units\":\"screen\",\"fill_alpha\":0.5,\"fill_color\":\"lightgrey\",\"left_units\":\"screen\",\"level\":\"overlay\",\"line_alpha\":1.0,\"line_color\":\"black\",\"line_dash\":[4,4],\"line_width\":2,\"right_units\":\"screen\",\"syncable\":false,\"top_units\":\"screen\"},\"id\":\"14985\",\"type\":\"BoxAnnotation\"},{\"attributes\":{\"args\":{\"bidirectional\":false,\"properties\":{},\"source\":{\"id\":\"15494\"},\"target\":{\"id\":\"15493\"}},\"code\":\"try { \\n    var labels = ['cardholder_id: <b>2</b>', 'cardholder_id: <b>18</b>']\\n    target.text = labels[source.value]\\n     } catch(err) { console.log(err) }\",\"tags\":[139636222362576]},\"id\":\"15542\",\"type\":\"CustomJS\"},{\"attributes\":{\"mantissas\":[1,2,5],\"max_interval\":500.0,\"num_minor_ticks\":0},\"id\":\"15040\",\"type\":\"AdaptiveTicker\"},{\"attributes\":{\"base\":60,\"mantissas\":[1,2,5,10,15,20,30],\"max_interval\":1800000.0,\"min_interval\":1000.0,\"num_minor_ticks\":0},\"id\":\"15041\",\"type\":\"AdaptiveTicker\"},{\"attributes\":{\"base\":24,\"mantissas\":[1,2,4,6,8,12],\"max_interval\":43200000.0,\"min_interval\":3600000.0,\"num_minor_ticks\":0},\"id\":\"15042\",\"type\":\"AdaptiveTicker\"},{\"attributes\":{},\"id\":\"15051\",\"type\":\"YearsTicker\"},{\"attributes\":{\"months\":[0,1,2,3,4,5,6,7,8,9,10,11]},\"id\":\"15047\",\"type\":\"MonthsTicker\"},{\"attributes\":{\"client_comm_id\":\"e911b9dce089424f982315407c28a519\",\"comm_id\":\"c27ea8673652480394dbdfeff6cc6495\",\"plot_id\":\"14734\"},\"id\":\"15635\",\"type\":\"panel.models.comm_manager.CommManager\"},{\"attributes\":{\"days\":[1,15]},\"id\":\"15046\",\"type\":\"DaysTicker\"},{\"attributes\":{\"days\":[1,2,3,4,5,6,7,8,9,10,11,12,13,14,15,16,17,18,19,20,21,22,23,24,25,26,27,28,29,30,31]},\"id\":\"15043\",\"type\":\"DaysTicker\"},{\"attributes\":{\"margin\":[5,5,5,5],\"name\":\"VSpacer20808\",\"sizing_mode\":\"stretch_height\"},\"id\":\"15490\",\"type\":\"Spacer\"},{\"attributes\":{\"days\":[1,4,7,10,13,16,19,22,25,28]},\"id\":\"15044\",\"type\":\"DaysTicker\"},{\"attributes\":{\"days\":[1,8,15,22]},\"id\":\"15045\",\"type\":\"DaysTicker\"},{\"attributes\":{\"months\":[0,2,4,6,8,10]},\"id\":\"15048\",\"type\":\"MonthsTicker\"},{\"attributes\":{\"months\":[0,6]},\"id\":\"15050\",\"type\":\"MonthsTicker\"}],\"root_ids\":[\"14734\",\"15635\"]},\"title\":\"Bokeh Application\",\"version\":\"2.3.2\"}};\n",
       "    var render_items = [{\"docid\":\"8b0ef384-695f-4085-89da-5967e4cbe846\",\"root_ids\":[\"14734\"],\"roots\":{\"14734\":\"32d02078-3d26-4735-ba2a-8b5f1e4635ff\"}}];\n",
       "    root.Bokeh.embed.embed_items_notebook(docs_json, render_items);\n",
       "  }\n",
       "  if (root.Bokeh !== undefined && root.Bokeh.Panel !== undefined) {\n",
       "    embed_document(root);\n",
       "  } else {\n",
       "    var attempts = 0;\n",
       "    var timer = setInterval(function(root) {\n",
       "      if (root.Bokeh !== undefined && root.Bokeh.Panel !== undefined) {\n",
       "        clearInterval(timer);\n",
       "        embed_document(root);\n",
       "      } else if (document.readyState == \"complete\") {\n",
       "        attempts++;\n",
       "        if (attempts > 100) {\n",
       "          clearInterval(timer);\n",
       "          console.log(\"Bokeh: ERROR: Unable to run BokehJS code because BokehJS library is missing\");\n",
       "        }\n",
       "      }\n",
       "    }, 10, root)\n",
       "  }\n",
       "})(window);</script>"
      ],
      "text/plain": [
       ":Layout\n",
       "   .Overlay.I    :Overlay\n",
       "      .Curve.I  :Curve   [date]   (amount)\n",
       "      .Curve.II :Curve   [date]   (amount)\n",
       "   .DynamicMap.I :DynamicMap   [cardholder_id]\n",
       "      :Curve   [date]   (amount)"
      ]
     },
     "execution_count": 176,
     "metadata": {
      "application/vnd.holoviews_exec.v0+json": {
       "id": "14734"
      }
     },
     "output_type": "execute_result"
    }
   ],
   "source": [
    "# Combined plot for card holders 2 and 18\n",
    "cardholder_2_plot * cardholder_18_plot + cardholders_2_18_df.hvplot.line(groupby = 'cardholder_id', ylim = [-5, 2000])"
   ]
  },
  {
   "cell_type": "markdown",
   "metadata": {},
   "source": [
    "## Data Analysis Question 2\n",
    "\n",
    "The CEO of the biggest customer of the firm suspects that someone has used her corporate credit card without authorization in the first quarter of 2018 to pay quite expensive restaurant bills. Again, for privacy reasons, you know only that the cardholder ID in question is 25.\n",
    "\n",
    "* Using Plotly Express, create a box plot, representing the expenditure data from January 2018 to June 2018 for cardholder ID 25.\n",
    "\n",
    "* Are there any outliers for cardholder ID 25? How many outliers are there per month?\n",
    "\n",
    "* Do you notice any anomalies? Describe your observations and conclusions in your markdown report."
   ]
  },
  {
   "cell_type": "code",
   "execution_count": 247,
   "metadata": {},
   "outputs": [
    {
     "data": {
      "text/html": [
       "<div>\n",
       "<style scoped>\n",
       "    .dataframe tbody tr th:only-of-type {\n",
       "        vertical-align: middle;\n",
       "    }\n",
       "\n",
       "    .dataframe tbody tr th {\n",
       "        vertical-align: top;\n",
       "    }\n",
       "\n",
       "    .dataframe thead th {\n",
       "        text-align: right;\n",
       "    }\n",
       "</style>\n",
       "<table border=\"1\" class=\"dataframe\">\n",
       "  <thead>\n",
       "    <tr style=\"text-align: right;\">\n",
       "      <th></th>\n",
       "      <th>date</th>\n",
       "      <th>amount</th>\n",
       "    </tr>\n",
       "  </thead>\n",
       "  <tbody>\n",
       "    <tr>\n",
       "      <th>0</th>\n",
       "      <td>2018-01-02 02:06:21</td>\n",
       "      <td>1.46</td>\n",
       "    </tr>\n",
       "    <tr>\n",
       "      <th>1</th>\n",
       "      <td>2018-01-05 06:26:45</td>\n",
       "      <td>10.74</td>\n",
       "    </tr>\n",
       "    <tr>\n",
       "      <th>2</th>\n",
       "      <td>2018-01-07 14:57:23</td>\n",
       "      <td>2.93</td>\n",
       "    </tr>\n",
       "    <tr>\n",
       "      <th>3</th>\n",
       "      <td>2018-01-10 00:25:40</td>\n",
       "      <td>1.39</td>\n",
       "    </tr>\n",
       "    <tr>\n",
       "      <th>4</th>\n",
       "      <td>2018-01-14 05:02:22</td>\n",
       "      <td>17.84</td>\n",
       "    </tr>\n",
       "  </tbody>\n",
       "</table>\n",
       "</div>"
      ],
      "text/plain": [
       "                 date  amount\n",
       "0 2018-01-02 02:06:21    1.46\n",
       "1 2018-01-05 06:26:45   10.74\n",
       "2 2018-01-07 14:57:23    2.93\n",
       "3 2018-01-10 00:25:40    1.39\n",
       "4 2018-01-14 05:02:22   17.84"
      ]
     },
     "execution_count": 247,
     "metadata": {},
     "output_type": "execute_result"
    }
   ],
   "source": [
    "# loading data of daily transactions from jan to jun 2018 for card holder 25\n",
    "# Write the query\n",
    "query_25 = '''\n",
    "select date, amount\n",
    "from anon_data\n",
    "where cardholder_id = 25\n",
    "and date between '2018-01-01' and '2018-06-30'\n",
    "order by date;\n",
    "'''\n",
    "# Create a DataFrame from the query result. HINT: Use pd.read_sql(query, engine)\n",
    "cardholder_25 = pd.read_sql(query_25, conn)\n",
    "cardholder_25.head()"
   ]
  },
  {
   "cell_type": "code",
   "execution_count": 246,
   "metadata": {},
   "outputs": [
    {
     "data": {
      "text/html": [
       "<div>\n",
       "<style scoped>\n",
       "    .dataframe tbody tr th:only-of-type {\n",
       "        vertical-align: middle;\n",
       "    }\n",
       "\n",
       "    .dataframe tbody tr th {\n",
       "        vertical-align: top;\n",
       "    }\n",
       "\n",
       "    .dataframe thead tr th {\n",
       "        text-align: left;\n",
       "    }\n",
       "\n",
       "    .dataframe thead tr:last-of-type th {\n",
       "        text-align: right;\n",
       "    }\n",
       "</style>\n",
       "<table border=\"1\" class=\"dataframe\">\n",
       "  <thead>\n",
       "    <tr>\n",
       "      <th></th>\n",
       "      <th colspan=\"8\" halign=\"left\">amount</th>\n",
       "    </tr>\n",
       "    <tr>\n",
       "      <th></th>\n",
       "      <th>count</th>\n",
       "      <th>mean</th>\n",
       "      <th>std</th>\n",
       "      <th>min</th>\n",
       "      <th>25%</th>\n",
       "      <th>50%</th>\n",
       "      <th>75%</th>\n",
       "      <th>max</th>\n",
       "    </tr>\n",
       "    <tr>\n",
       "      <th>month</th>\n",
       "      <th></th>\n",
       "      <th></th>\n",
       "      <th></th>\n",
       "      <th></th>\n",
       "      <th></th>\n",
       "      <th></th>\n",
       "      <th></th>\n",
       "      <th></th>\n",
       "    </tr>\n",
       "  </thead>\n",
       "  <tbody>\n",
       "    <tr>\n",
       "      <th>January</th>\n",
       "      <td>10.0</td>\n",
       "      <td>123.384000</td>\n",
       "      <td>370.256053</td>\n",
       "      <td>1.39</td>\n",
       "      <td>1.7925</td>\n",
       "      <td>2.840</td>\n",
       "      <td>14.580</td>\n",
       "      <td>1177.0</td>\n",
       "    </tr>\n",
       "    <tr>\n",
       "      <th>February</th>\n",
       "      <td>10.0</td>\n",
       "      <td>6.491000</td>\n",
       "      <td>5.489180</td>\n",
       "      <td>0.91</td>\n",
       "      <td>1.6025</td>\n",
       "      <td>4.830</td>\n",
       "      <td>10.795</td>\n",
       "      <td>16.7</td>\n",
       "    </tr>\n",
       "    <tr>\n",
       "      <th>March</th>\n",
       "      <td>13.0</td>\n",
       "      <td>110.953846</td>\n",
       "      <td>367.543328</td>\n",
       "      <td>1.65</td>\n",
       "      <td>2.8800</td>\n",
       "      <td>10.100</td>\n",
       "      <td>16.580</td>\n",
       "      <td>1334.0</td>\n",
       "    </tr>\n",
       "    <tr>\n",
       "      <th>April</th>\n",
       "      <td>16.0</td>\n",
       "      <td>97.981250</td>\n",
       "      <td>265.895041</td>\n",
       "      <td>2.62</td>\n",
       "      <td>7.3125</td>\n",
       "      <td>10.195</td>\n",
       "      <td>17.870</td>\n",
       "      <td>1063.0</td>\n",
       "    </tr>\n",
       "    <tr>\n",
       "      <th>May</th>\n",
       "      <td>5.0</td>\n",
       "      <td>213.498000</td>\n",
       "      <td>465.402688</td>\n",
       "      <td>1.10</td>\n",
       "      <td>2.2700</td>\n",
       "      <td>5.970</td>\n",
       "      <td>12.150</td>\n",
       "      <td>1046.0</td>\n",
       "    </tr>\n",
       "    <tr>\n",
       "      <th>June</th>\n",
       "      <td>13.0</td>\n",
       "      <td>294.954615</td>\n",
       "      <td>582.285354</td>\n",
       "      <td>1.03</td>\n",
       "      <td>10.6900</td>\n",
       "      <td>11.880</td>\n",
       "      <td>16.610</td>\n",
       "      <td>1813.0</td>\n",
       "    </tr>\n",
       "  </tbody>\n",
       "</table>\n",
       "</div>"
      ],
      "text/plain": [
       "         amount                                                               \n",
       "          count        mean         std   min      25%     50%     75%     max\n",
       "month                                                                         \n",
       "January    10.0  123.384000  370.256053  1.39   1.7925   2.840  14.580  1177.0\n",
       "February   10.0    6.491000    5.489180  0.91   1.6025   4.830  10.795    16.7\n",
       "March      13.0  110.953846  367.543328  1.65   2.8800  10.100  16.580  1334.0\n",
       "April      16.0   97.981250  265.895041  2.62   7.3125  10.195  17.870  1063.0\n",
       "May         5.0  213.498000  465.402688  1.10   2.2700   5.970  12.150  1046.0\n",
       "June       13.0  294.954615  582.285354  1.03  10.6900  11.880  16.610  1813.0"
      ]
     },
     "execution_count": 246,
     "metadata": {},
     "output_type": "execute_result"
    }
   ],
   "source": [
    "# loop to change the numeric month to month names\n",
    "cardholder_25['month'] = cardholder_25['date'].dt.month_name()\n",
    "cardholder_25.groupby(pd.Grouper(key = 'month')).describe()"
   ]
  },
  {
   "cell_type": "code",
   "execution_count": 240,
   "metadata": {},
   "outputs": [
    {
     "data": {
      "application/vnd.plotly.v1+json": {
       "config": {
        "plotlyServerURL": "https://plot.ly"
       },
       "data": [
        {
         "alignmentgroup": "True",
         "hovertemplate": "month=%{x}<br>amount=%{y}<extra></extra>",
         "legendgroup": "",
         "marker": {
          "color": "#636efa"
         },
         "name": "",
         "notched": false,
         "offsetgroup": "",
         "orientation": "v",
         "showlegend": false,
         "type": "box",
         "x": [
          "January",
          "January",
          "January",
          "January",
          "January",
          "January",
          "January",
          "January",
          "January",
          "January",
          "February",
          "February",
          "February",
          "February",
          "February",
          "February",
          "February",
          "February",
          "February",
          "February",
          "March",
          "March",
          "March",
          "March",
          "March",
          "March",
          "March",
          "March",
          "March",
          "March",
          "March",
          "March",
          "March",
          "April",
          "April",
          "April",
          "April",
          "April",
          "April",
          "April",
          "April",
          "April",
          "April",
          "April",
          "April",
          "April",
          "April",
          "April",
          "April",
          "May",
          "May",
          "May",
          "May",
          "May",
          "June",
          "June",
          "June",
          "June",
          "June",
          "June",
          "June",
          "June",
          "June",
          "June",
          "June",
          "June",
          "June"
         ],
         "x0": " ",
         "xaxis": "x",
         "y": [
          1.46,
          10.74,
          2.93,
          1.39,
          17.84,
          1.65,
          15.86,
          2.22,
          1177,
          2.75,
          10.75,
          10.81,
          5.97,
          3.69,
          16.7,
          1.26,
          2.63,
          11.01,
          0.91,
          1.18,
          12.42,
          16.58,
          1334,
          2.88,
          2.04,
          13.57,
          10.1,
          1.65,
          3.08,
          4.2,
          2.56,
          18.28,
          21.04,
          100,
          2.62,
          7.08,
          17.15,
          1063,
          10.15,
          10.06,
          269,
          10.24,
          7.39,
          6.01,
          20.03,
          2.79,
          10.02,
          15.66,
          16.5,
          1.1,
          1046,
          12.15,
          2.27,
          5.97,
          1162,
          749,
          10.69,
          11.88,
          1.03,
          10.15,
          11.01,
          16.29,
          15.98,
          1813,
          16.61,
          11.53,
          5.24
         ],
         "y0": " ",
         "yaxis": "y"
        }
       ],
       "layout": {
        "autosize": true,
        "boxmode": "group",
        "legend": {
         "tracegroupgap": 0
        },
        "margin": {
         "t": 60
        },
        "template": {
         "data": {
          "bar": [
           {
            "error_x": {
             "color": "#2a3f5f"
            },
            "error_y": {
             "color": "#2a3f5f"
            },
            "marker": {
             "line": {
              "color": "#E5ECF6",
              "width": 0.5
             }
            },
            "type": "bar"
           }
          ],
          "barpolar": [
           {
            "marker": {
             "line": {
              "color": "#E5ECF6",
              "width": 0.5
             }
            },
            "type": "barpolar"
           }
          ],
          "carpet": [
           {
            "aaxis": {
             "endlinecolor": "#2a3f5f",
             "gridcolor": "white",
             "linecolor": "white",
             "minorgridcolor": "white",
             "startlinecolor": "#2a3f5f"
            },
            "baxis": {
             "endlinecolor": "#2a3f5f",
             "gridcolor": "white",
             "linecolor": "white",
             "minorgridcolor": "white",
             "startlinecolor": "#2a3f5f"
            },
            "type": "carpet"
           }
          ],
          "choropleth": [
           {
            "colorbar": {
             "outlinewidth": 0,
             "ticks": ""
            },
            "type": "choropleth"
           }
          ],
          "contour": [
           {
            "colorbar": {
             "outlinewidth": 0,
             "ticks": ""
            },
            "colorscale": [
             [
              0,
              "#0d0887"
             ],
             [
              0.1111111111111111,
              "#46039f"
             ],
             [
              0.2222222222222222,
              "#7201a8"
             ],
             [
              0.3333333333333333,
              "#9c179e"
             ],
             [
              0.4444444444444444,
              "#bd3786"
             ],
             [
              0.5555555555555556,
              "#d8576b"
             ],
             [
              0.6666666666666666,
              "#ed7953"
             ],
             [
              0.7777777777777778,
              "#fb9f3a"
             ],
             [
              0.8888888888888888,
              "#fdca26"
             ],
             [
              1,
              "#f0f921"
             ]
            ],
            "type": "contour"
           }
          ],
          "contourcarpet": [
           {
            "colorbar": {
             "outlinewidth": 0,
             "ticks": ""
            },
            "type": "contourcarpet"
           }
          ],
          "heatmap": [
           {
            "colorbar": {
             "outlinewidth": 0,
             "ticks": ""
            },
            "colorscale": [
             [
              0,
              "#0d0887"
             ],
             [
              0.1111111111111111,
              "#46039f"
             ],
             [
              0.2222222222222222,
              "#7201a8"
             ],
             [
              0.3333333333333333,
              "#9c179e"
             ],
             [
              0.4444444444444444,
              "#bd3786"
             ],
             [
              0.5555555555555556,
              "#d8576b"
             ],
             [
              0.6666666666666666,
              "#ed7953"
             ],
             [
              0.7777777777777778,
              "#fb9f3a"
             ],
             [
              0.8888888888888888,
              "#fdca26"
             ],
             [
              1,
              "#f0f921"
             ]
            ],
            "type": "heatmap"
           }
          ],
          "heatmapgl": [
           {
            "colorbar": {
             "outlinewidth": 0,
             "ticks": ""
            },
            "colorscale": [
             [
              0,
              "#0d0887"
             ],
             [
              0.1111111111111111,
              "#46039f"
             ],
             [
              0.2222222222222222,
              "#7201a8"
             ],
             [
              0.3333333333333333,
              "#9c179e"
             ],
             [
              0.4444444444444444,
              "#bd3786"
             ],
             [
              0.5555555555555556,
              "#d8576b"
             ],
             [
              0.6666666666666666,
              "#ed7953"
             ],
             [
              0.7777777777777778,
              "#fb9f3a"
             ],
             [
              0.8888888888888888,
              "#fdca26"
             ],
             [
              1,
              "#f0f921"
             ]
            ],
            "type": "heatmapgl"
           }
          ],
          "histogram": [
           {
            "marker": {
             "colorbar": {
              "outlinewidth": 0,
              "ticks": ""
             }
            },
            "type": "histogram"
           }
          ],
          "histogram2d": [
           {
            "colorbar": {
             "outlinewidth": 0,
             "ticks": ""
            },
            "colorscale": [
             [
              0,
              "#0d0887"
             ],
             [
              0.1111111111111111,
              "#46039f"
             ],
             [
              0.2222222222222222,
              "#7201a8"
             ],
             [
              0.3333333333333333,
              "#9c179e"
             ],
             [
              0.4444444444444444,
              "#bd3786"
             ],
             [
              0.5555555555555556,
              "#d8576b"
             ],
             [
              0.6666666666666666,
              "#ed7953"
             ],
             [
              0.7777777777777778,
              "#fb9f3a"
             ],
             [
              0.8888888888888888,
              "#fdca26"
             ],
             [
              1,
              "#f0f921"
             ]
            ],
            "type": "histogram2d"
           }
          ],
          "histogram2dcontour": [
           {
            "colorbar": {
             "outlinewidth": 0,
             "ticks": ""
            },
            "colorscale": [
             [
              0,
              "#0d0887"
             ],
             [
              0.1111111111111111,
              "#46039f"
             ],
             [
              0.2222222222222222,
              "#7201a8"
             ],
             [
              0.3333333333333333,
              "#9c179e"
             ],
             [
              0.4444444444444444,
              "#bd3786"
             ],
             [
              0.5555555555555556,
              "#d8576b"
             ],
             [
              0.6666666666666666,
              "#ed7953"
             ],
             [
              0.7777777777777778,
              "#fb9f3a"
             ],
             [
              0.8888888888888888,
              "#fdca26"
             ],
             [
              1,
              "#f0f921"
             ]
            ],
            "type": "histogram2dcontour"
           }
          ],
          "mesh3d": [
           {
            "colorbar": {
             "outlinewidth": 0,
             "ticks": ""
            },
            "type": "mesh3d"
           }
          ],
          "parcoords": [
           {
            "line": {
             "colorbar": {
              "outlinewidth": 0,
              "ticks": ""
             }
            },
            "type": "parcoords"
           }
          ],
          "pie": [
           {
            "automargin": true,
            "type": "pie"
           }
          ],
          "scatter": [
           {
            "marker": {
             "colorbar": {
              "outlinewidth": 0,
              "ticks": ""
             }
            },
            "type": "scatter"
           }
          ],
          "scatter3d": [
           {
            "line": {
             "colorbar": {
              "outlinewidth": 0,
              "ticks": ""
             }
            },
            "marker": {
             "colorbar": {
              "outlinewidth": 0,
              "ticks": ""
             }
            },
            "type": "scatter3d"
           }
          ],
          "scattercarpet": [
           {
            "marker": {
             "colorbar": {
              "outlinewidth": 0,
              "ticks": ""
             }
            },
            "type": "scattercarpet"
           }
          ],
          "scattergeo": [
           {
            "marker": {
             "colorbar": {
              "outlinewidth": 0,
              "ticks": ""
             }
            },
            "type": "scattergeo"
           }
          ],
          "scattergl": [
           {
            "marker": {
             "colorbar": {
              "outlinewidth": 0,
              "ticks": ""
             }
            },
            "type": "scattergl"
           }
          ],
          "scattermapbox": [
           {
            "marker": {
             "colorbar": {
              "outlinewidth": 0,
              "ticks": ""
             }
            },
            "type": "scattermapbox"
           }
          ],
          "scatterpolar": [
           {
            "marker": {
             "colorbar": {
              "outlinewidth": 0,
              "ticks": ""
             }
            },
            "type": "scatterpolar"
           }
          ],
          "scatterpolargl": [
           {
            "marker": {
             "colorbar": {
              "outlinewidth": 0,
              "ticks": ""
             }
            },
            "type": "scatterpolargl"
           }
          ],
          "scatterternary": [
           {
            "marker": {
             "colorbar": {
              "outlinewidth": 0,
              "ticks": ""
             }
            },
            "type": "scatterternary"
           }
          ],
          "surface": [
           {
            "colorbar": {
             "outlinewidth": 0,
             "ticks": ""
            },
            "colorscale": [
             [
              0,
              "#0d0887"
             ],
             [
              0.1111111111111111,
              "#46039f"
             ],
             [
              0.2222222222222222,
              "#7201a8"
             ],
             [
              0.3333333333333333,
              "#9c179e"
             ],
             [
              0.4444444444444444,
              "#bd3786"
             ],
             [
              0.5555555555555556,
              "#d8576b"
             ],
             [
              0.6666666666666666,
              "#ed7953"
             ],
             [
              0.7777777777777778,
              "#fb9f3a"
             ],
             [
              0.8888888888888888,
              "#fdca26"
             ],
             [
              1,
              "#f0f921"
             ]
            ],
            "type": "surface"
           }
          ],
          "table": [
           {
            "cells": {
             "fill": {
              "color": "#EBF0F8"
             },
             "line": {
              "color": "white"
             }
            },
            "header": {
             "fill": {
              "color": "#C8D4E3"
             },
             "line": {
              "color": "white"
             }
            },
            "type": "table"
           }
          ]
         },
         "layout": {
          "annotationdefaults": {
           "arrowcolor": "#2a3f5f",
           "arrowhead": 0,
           "arrowwidth": 1
          },
          "autotypenumbers": "strict",
          "coloraxis": {
           "colorbar": {
            "outlinewidth": 0,
            "ticks": ""
           }
          },
          "colorscale": {
           "diverging": [
            [
             0,
             "#8e0152"
            ],
            [
             0.1,
             "#c51b7d"
            ],
            [
             0.2,
             "#de77ae"
            ],
            [
             0.3,
             "#f1b6da"
            ],
            [
             0.4,
             "#fde0ef"
            ],
            [
             0.5,
             "#f7f7f7"
            ],
            [
             0.6,
             "#e6f5d0"
            ],
            [
             0.7,
             "#b8e186"
            ],
            [
             0.8,
             "#7fbc41"
            ],
            [
             0.9,
             "#4d9221"
            ],
            [
             1,
             "#276419"
            ]
           ],
           "sequential": [
            [
             0,
             "#0d0887"
            ],
            [
             0.1111111111111111,
             "#46039f"
            ],
            [
             0.2222222222222222,
             "#7201a8"
            ],
            [
             0.3333333333333333,
             "#9c179e"
            ],
            [
             0.4444444444444444,
             "#bd3786"
            ],
            [
             0.5555555555555556,
             "#d8576b"
            ],
            [
             0.6666666666666666,
             "#ed7953"
            ],
            [
             0.7777777777777778,
             "#fb9f3a"
            ],
            [
             0.8888888888888888,
             "#fdca26"
            ],
            [
             1,
             "#f0f921"
            ]
           ],
           "sequentialminus": [
            [
             0,
             "#0d0887"
            ],
            [
             0.1111111111111111,
             "#46039f"
            ],
            [
             0.2222222222222222,
             "#7201a8"
            ],
            [
             0.3333333333333333,
             "#9c179e"
            ],
            [
             0.4444444444444444,
             "#bd3786"
            ],
            [
             0.5555555555555556,
             "#d8576b"
            ],
            [
             0.6666666666666666,
             "#ed7953"
            ],
            [
             0.7777777777777778,
             "#fb9f3a"
            ],
            [
             0.8888888888888888,
             "#fdca26"
            ],
            [
             1,
             "#f0f921"
            ]
           ]
          },
          "colorway": [
           "#636efa",
           "#EF553B",
           "#00cc96",
           "#ab63fa",
           "#FFA15A",
           "#19d3f3",
           "#FF6692",
           "#B6E880",
           "#FF97FF",
           "#FECB52"
          ],
          "font": {
           "color": "#2a3f5f"
          },
          "geo": {
           "bgcolor": "white",
           "lakecolor": "white",
           "landcolor": "#E5ECF6",
           "showlakes": true,
           "showland": true,
           "subunitcolor": "white"
          },
          "hoverlabel": {
           "align": "left"
          },
          "hovermode": "closest",
          "mapbox": {
           "style": "light"
          },
          "paper_bgcolor": "white",
          "plot_bgcolor": "#E5ECF6",
          "polar": {
           "angularaxis": {
            "gridcolor": "white",
            "linecolor": "white",
            "ticks": ""
           },
           "bgcolor": "#E5ECF6",
           "radialaxis": {
            "gridcolor": "white",
            "linecolor": "white",
            "ticks": ""
           }
          },
          "scene": {
           "xaxis": {
            "backgroundcolor": "#E5ECF6",
            "gridcolor": "white",
            "gridwidth": 2,
            "linecolor": "white",
            "showbackground": true,
            "ticks": "",
            "zerolinecolor": "white"
           },
           "yaxis": {
            "backgroundcolor": "#E5ECF6",
            "gridcolor": "white",
            "gridwidth": 2,
            "linecolor": "white",
            "showbackground": true,
            "ticks": "",
            "zerolinecolor": "white"
           },
           "zaxis": {
            "backgroundcolor": "#E5ECF6",
            "gridcolor": "white",
            "gridwidth": 2,
            "linecolor": "white",
            "showbackground": true,
            "ticks": "",
            "zerolinecolor": "white"
           }
          },
          "shapedefaults": {
           "line": {
            "color": "#2a3f5f"
           }
          },
          "ternary": {
           "aaxis": {
            "gridcolor": "white",
            "linecolor": "white",
            "ticks": ""
           },
           "baxis": {
            "gridcolor": "white",
            "linecolor": "white",
            "ticks": ""
           },
           "bgcolor": "#E5ECF6",
           "caxis": {
            "gridcolor": "white",
            "linecolor": "white",
            "ticks": ""
           }
          },
          "title": {
           "x": 0.05
          },
          "xaxis": {
           "automargin": true,
           "gridcolor": "white",
           "linecolor": "white",
           "ticks": "",
           "title": {
            "standoff": 15
           },
           "zerolinecolor": "white",
           "zerolinewidth": 2
          },
          "yaxis": {
           "automargin": true,
           "gridcolor": "white",
           "linecolor": "white",
           "ticks": "",
           "title": {
            "standoff": 15
           },
           "zerolinecolor": "white",
           "zerolinewidth": 2
          }
         }
        },
        "xaxis": {
         "anchor": "y",
         "autorange": true,
         "domain": [
          0,
          1
         ],
         "range": [
          -0.5,
          5.5
         ],
         "title": {
          "text": "month"
         },
         "type": "category"
        },
        "yaxis": {
         "anchor": "x",
         "autorange": true,
         "domain": [
          0,
          1
         ],
         "range": [
          -99.76166666666666,
          1913.6716666666666
         ],
         "title": {
          "text": "amount"
         },
         "type": "linear"
        }
       }
      },
      "image/png": "[encoded data removed]",
      "text/html": [
       "<div>                            <div id=\"8f1a70c1-7332-4e48-b6e3-5ac6724571ee\" class=\"plotly-graph-div\" style=\"height:525px; width:100%;\"></div>            <script type=\"text/javascript\">                require([\"plotly\"], function(Plotly) {                    window.PLOTLYENV=window.PLOTLYENV || {};                                    if (document.getElementById(\"8f1a70c1-7332-4e48-b6e3-5ac6724571ee\")) {                    Plotly.newPlot(                        \"8f1a70c1-7332-4e48-b6e3-5ac6724571ee\",                        [{\"alignmentgroup\": \"True\", \"hovertemplate\": \"month=%{x}<br>amount=%{y}<extra></extra>\", \"legendgroup\": \"\", \"marker\": {\"color\": \"#636efa\"}, \"name\": \"\", \"notched\": false, \"offsetgroup\": \"\", \"orientation\": \"v\", \"showlegend\": false, \"type\": \"box\", \"x\": [\"January\", \"January\", \"January\", \"January\", \"January\", \"January\", \"January\", \"January\", \"January\", \"January\", \"February\", \"February\", \"February\", \"February\", \"February\", \"February\", \"February\", \"February\", \"February\", \"February\", \"March\", \"March\", \"March\", \"March\", \"March\", \"March\", \"March\", \"March\", \"March\", \"March\", \"March\", \"March\", \"March\", \"April\", \"April\", \"April\", \"April\", \"April\", \"April\", \"April\", \"April\", \"April\", \"April\", \"April\", \"April\", \"April\", \"April\", \"April\", \"April\", \"May\", \"May\", \"May\", \"May\", \"May\", \"June\", \"June\", \"June\", \"June\", \"June\", \"June\", \"June\", \"June\", \"June\", \"June\", \"June\", \"June\", \"June\"], \"x0\": \" \", \"xaxis\": \"x\", \"y\": [1.46, 10.74, 2.93, 1.39, 17.84, 1.65, 15.86, 2.22, 1177.0, 2.75, 10.75, 10.81, 5.97, 3.69, 16.7, 1.26, 2.63, 11.01, 0.91, 1.18, 12.42, 16.58, 1334.0, 2.88, 2.04, 13.57, 10.1, 1.65, 3.08, 4.2, 2.56, 18.28, 21.04, 100.0, 2.62, 7.08, 17.15, 1063.0, 10.15, 10.06, 269.0, 10.24, 7.39, 6.01, 20.03, 2.79, 10.02, 15.66, 16.5, 1.1, 1046.0, 12.15, 2.27, 5.97, 1162.0, 749.0, 10.69, 11.88, 1.03, 10.15, 11.01, 16.29, 15.98, 1813.0, 16.61, 11.53, 5.24], \"y0\": \" \", \"yaxis\": \"y\"}],                        {\"boxmode\": \"group\", \"legend\": {\"tracegroupgap\": 0}, \"margin\": {\"t\": 60}, \"template\": {\"data\": {\"bar\": [{\"error_x\": {\"color\": \"#2a3f5f\"}, \"error_y\": {\"color\": \"#2a3f5f\"}, \"marker\": {\"line\": {\"color\": \"#E5ECF6\", \"width\": 0.5}}, \"type\": \"bar\"}], \"barpolar\": [{\"marker\": {\"line\": {\"color\": \"#E5ECF6\", \"width\": 0.5}}, \"type\": \"barpolar\"}], \"carpet\": [{\"aaxis\": {\"endlinecolor\": \"#2a3f5f\", \"gridcolor\": \"white\", \"linecolor\": \"white\", \"minorgridcolor\": \"white\", \"startlinecolor\": \"#2a3f5f\"}, \"baxis\": {\"endlinecolor\": \"#2a3f5f\", \"gridcolor\": \"white\", \"linecolor\": \"white\", \"minorgridcolor\": \"white\", \"startlinecolor\": \"#2a3f5f\"}, \"type\": \"carpet\"}], \"choropleth\": [{\"colorbar\": {\"outlinewidth\": 0, \"ticks\": \"\"}, \"type\": \"choropleth\"}], \"contour\": [{\"colorbar\": {\"outlinewidth\": 0, \"ticks\": \"\"}, \"colorscale\": [[0.0, \"#0d0887\"], [0.1111111111111111, \"#46039f\"], [0.2222222222222222, \"#7201a8\"], [0.3333333333333333, \"#9c179e\"], [0.4444444444444444, \"#bd3786\"], [0.5555555555555556, \"#d8576b\"], [0.6666666666666666, \"#ed7953\"], [0.7777777777777778, \"#fb9f3a\"], [0.8888888888888888, \"#fdca26\"], [1.0, \"#f0f921\"]], \"type\": \"contour\"}], \"contourcarpet\": [{\"colorbar\": {\"outlinewidth\": 0, \"ticks\": \"\"}, \"type\": \"contourcarpet\"}], \"heatmap\": [{\"colorbar\": {\"outlinewidth\": 0, \"ticks\": \"\"}, \"colorscale\": [[0.0, \"#0d0887\"], [0.1111111111111111, \"#46039f\"], [0.2222222222222222, \"#7201a8\"], [0.3333333333333333, \"#9c179e\"], [0.4444444444444444, \"#bd3786\"], [0.5555555555555556, \"#d8576b\"], [0.6666666666666666, \"#ed7953\"], [0.7777777777777778, \"#fb9f3a\"], [0.8888888888888888, \"#fdca26\"], [1.0, \"#f0f921\"]], \"type\": \"heatmap\"}], \"heatmapgl\": [{\"colorbar\": {\"outlinewidth\": 0, \"ticks\": \"\"}, \"colorscale\": [[0.0, \"#0d0887\"], [0.1111111111111111, \"#46039f\"], [0.2222222222222222, \"#7201a8\"], [0.3333333333333333, \"#9c179e\"], [0.4444444444444444, \"#bd3786\"], [0.5555555555555556, \"#d8576b\"], [0.6666666666666666, \"#ed7953\"], [0.7777777777777778, \"#fb9f3a\"], [0.8888888888888888, \"#fdca26\"], [1.0, \"#f0f921\"]], \"type\": \"heatmapgl\"}], \"histogram\": [{\"marker\": {\"colorbar\": {\"outlinewidth\": 0, \"ticks\": \"\"}}, \"type\": \"histogram\"}], \"histogram2d\": [{\"colorbar\": {\"outlinewidth\": 0, \"ticks\": \"\"}, \"colorscale\": [[0.0, \"#0d0887\"], [0.1111111111111111, \"#46039f\"], [0.2222222222222222, \"#7201a8\"], [0.3333333333333333, \"#9c179e\"], [0.4444444444444444, \"#bd3786\"], [0.5555555555555556, \"#d8576b\"], [0.6666666666666666, \"#ed7953\"], [0.7777777777777778, \"#fb9f3a\"], [0.8888888888888888, \"#fdca26\"], [1.0, \"#f0f921\"]], \"type\": \"histogram2d\"}], \"histogram2dcontour\": [{\"colorbar\": {\"outlinewidth\": 0, \"ticks\": \"\"}, \"colorscale\": [[0.0, \"#0d0887\"], [0.1111111111111111, \"#46039f\"], [0.2222222222222222, \"#7201a8\"], [0.3333333333333333, \"#9c179e\"], [0.4444444444444444, \"#bd3786\"], [0.5555555555555556, \"#d8576b\"], [0.6666666666666666, \"#ed7953\"], [0.7777777777777778, \"#fb9f3a\"], [0.8888888888888888, \"#fdca26\"], [1.0, \"#f0f921\"]], \"type\": \"histogram2dcontour\"}], \"mesh3d\": [{\"colorbar\": {\"outlinewidth\": 0, \"ticks\": \"\"}, \"type\": \"mesh3d\"}], \"parcoords\": [{\"line\": {\"colorbar\": {\"outlinewidth\": 0, \"ticks\": \"\"}}, \"type\": \"parcoords\"}], \"pie\": [{\"automargin\": true, \"type\": \"pie\"}], \"scatter\": [{\"marker\": {\"colorbar\": {\"outlinewidth\": 0, \"ticks\": \"\"}}, \"type\": \"scatter\"}], \"scatter3d\": [{\"line\": {\"colorbar\": {\"outlinewidth\": 0, \"ticks\": \"\"}}, \"marker\": {\"colorbar\": {\"outlinewidth\": 0, \"ticks\": \"\"}}, \"type\": \"scatter3d\"}], \"scattercarpet\": [{\"marker\": {\"colorbar\": {\"outlinewidth\": 0, \"ticks\": \"\"}}, \"type\": \"scattercarpet\"}], \"scattergeo\": [{\"marker\": {\"colorbar\": {\"outlinewidth\": 0, \"ticks\": \"\"}}, \"type\": \"scattergeo\"}], \"scattergl\": [{\"marker\": {\"colorbar\": {\"outlinewidth\": 0, \"ticks\": \"\"}}, \"type\": \"scattergl\"}], \"scattermapbox\": [{\"marker\": {\"colorbar\": {\"outlinewidth\": 0, \"ticks\": \"\"}}, \"type\": \"scattermapbox\"}], \"scatterpolar\": [{\"marker\": {\"colorbar\": {\"outlinewidth\": 0, \"ticks\": \"\"}}, \"type\": \"scatterpolar\"}], \"scatterpolargl\": [{\"marker\": {\"colorbar\": {\"outlinewidth\": 0, \"ticks\": \"\"}}, \"type\": \"scatterpolargl\"}], \"scatterternary\": [{\"marker\": {\"colorbar\": {\"outlinewidth\": 0, \"ticks\": \"\"}}, \"type\": \"scatterternary\"}], \"surface\": [{\"colorbar\": {\"outlinewidth\": 0, \"ticks\": \"\"}, \"colorscale\": [[0.0, \"#0d0887\"], [0.1111111111111111, \"#46039f\"], [0.2222222222222222, \"#7201a8\"], [0.3333333333333333, \"#9c179e\"], [0.4444444444444444, \"#bd3786\"], [0.5555555555555556, \"#d8576b\"], [0.6666666666666666, \"#ed7953\"], [0.7777777777777778, \"#fb9f3a\"], [0.8888888888888888, \"#fdca26\"], [1.0, \"#f0f921\"]], \"type\": \"surface\"}], \"table\": [{\"cells\": {\"fill\": {\"color\": \"#EBF0F8\"}, \"line\": {\"color\": \"white\"}}, \"header\": {\"fill\": {\"color\": \"#C8D4E3\"}, \"line\": {\"color\": \"white\"}}, \"type\": \"table\"}]}, \"layout\": {\"annotationdefaults\": {\"arrowcolor\": \"#2a3f5f\", \"arrowhead\": 0, \"arrowwidth\": 1}, \"autotypenumbers\": \"strict\", \"coloraxis\": {\"colorbar\": {\"outlinewidth\": 0, \"ticks\": \"\"}}, \"colorscale\": {\"diverging\": [[0, \"#8e0152\"], [0.1, \"#c51b7d\"], [0.2, \"#de77ae\"], [0.3, \"#f1b6da\"], [0.4, \"#fde0ef\"], [0.5, \"#f7f7f7\"], [0.6, \"#e6f5d0\"], [0.7, \"#b8e186\"], [0.8, \"#7fbc41\"], [0.9, \"#4d9221\"], [1, \"#276419\"]], \"sequential\": [[0.0, \"#0d0887\"], [0.1111111111111111, \"#46039f\"], [0.2222222222222222, \"#7201a8\"], [0.3333333333333333, \"#9c179e\"], [0.4444444444444444, \"#bd3786\"], [0.5555555555555556, \"#d8576b\"], [0.6666666666666666, \"#ed7953\"], [0.7777777777777778, \"#fb9f3a\"], [0.8888888888888888, \"#fdca26\"], [1.0, \"#f0f921\"]], \"sequentialminus\": [[0.0, \"#0d0887\"], [0.1111111111111111, \"#46039f\"], [0.2222222222222222, \"#7201a8\"], [0.3333333333333333, \"#9c179e\"], [0.4444444444444444, \"#bd3786\"], [0.5555555555555556, \"#d8576b\"], [0.6666666666666666, \"#ed7953\"], [0.7777777777777778, \"#fb9f3a\"], [0.8888888888888888, \"#fdca26\"], [1.0, \"#f0f921\"]]}, \"colorway\": [\"#636efa\", \"#EF553B\", \"#00cc96\", \"#ab63fa\", \"#FFA15A\", \"#19d3f3\", \"#FF6692\", \"#B6E880\", \"#FF97FF\", \"#FECB52\"], \"font\": {\"color\": \"#2a3f5f\"}, \"geo\": {\"bgcolor\": \"white\", \"lakecolor\": \"white\", \"landcolor\": \"#E5ECF6\", \"showlakes\": true, \"showland\": true, \"subunitcolor\": \"white\"}, \"hoverlabel\": {\"align\": \"left\"}, \"hovermode\": \"closest\", \"mapbox\": {\"style\": \"light\"}, \"paper_bgcolor\": \"white\", \"plot_bgcolor\": \"#E5ECF6\", \"polar\": {\"angularaxis\": {\"gridcolor\": \"white\", \"linecolor\": \"white\", \"ticks\": \"\"}, \"bgcolor\": \"#E5ECF6\", \"radialaxis\": {\"gridcolor\": \"white\", \"linecolor\": \"white\", \"ticks\": \"\"}}, \"scene\": {\"xaxis\": {\"backgroundcolor\": \"#E5ECF6\", \"gridcolor\": \"white\", \"gridwidth\": 2, \"linecolor\": \"white\", \"showbackground\": true, \"ticks\": \"\", \"zerolinecolor\": \"white\"}, \"yaxis\": {\"backgroundcolor\": \"#E5ECF6\", \"gridcolor\": \"white\", \"gridwidth\": 2, \"linecolor\": \"white\", \"showbackground\": true, \"ticks\": \"\", \"zerolinecolor\": \"white\"}, \"zaxis\": {\"backgroundcolor\": \"#E5ECF6\", \"gridcolor\": \"white\", \"gridwidth\": 2, \"linecolor\": \"white\", \"showbackground\": true, \"ticks\": \"\", \"zerolinecolor\": \"white\"}}, \"shapedefaults\": {\"line\": {\"color\": \"#2a3f5f\"}}, \"ternary\": {\"aaxis\": {\"gridcolor\": \"white\", \"linecolor\": \"white\", \"ticks\": \"\"}, \"baxis\": {\"gridcolor\": \"white\", \"linecolor\": \"white\", \"ticks\": \"\"}, \"bgcolor\": \"#E5ECF6\", \"caxis\": {\"gridcolor\": \"white\", \"linecolor\": \"white\", \"ticks\": \"\"}}, \"title\": {\"x\": 0.05}, \"xaxis\": {\"automargin\": true, \"gridcolor\": \"white\", \"linecolor\": \"white\", \"ticks\": \"\", \"title\": {\"standoff\": 15}, \"zerolinecolor\": \"white\", \"zerolinewidth\": 2}, \"yaxis\": {\"automargin\": true, \"gridcolor\": \"white\", \"linecolor\": \"white\", \"ticks\": \"\", \"title\": {\"standoff\": 15}, \"zerolinecolor\": \"white\", \"zerolinewidth\": 2}}}, \"xaxis\": {\"anchor\": \"y\", \"domain\": [0.0, 1.0], \"title\": {\"text\": \"month\"}}, \"yaxis\": {\"anchor\": \"x\", \"domain\": [0.0, 1.0], \"title\": {\"text\": \"amount\"}}},                        {\"responsive\": true}                    ).then(function(){\n",
       "                            \n",
       "var gd = document.getElementById('8f1a70c1-7332-4e48-b6e3-5ac6724571ee');\n",
       "var x = new MutationObserver(function (mutations, observer) {{\n",
       "        var display = window.getComputedStyle(gd).display;\n",
       "        if (!display || display === 'none') {{\n",
       "            console.log([gd, 'removed!']);\n",
       "            Plotly.purge(gd);\n",
       "            observer.disconnect();\n",
       "        }}\n",
       "}});\n",
       "\n",
       "// Listen for the removal of the full notebook cells\n",
       "var notebookContainer = gd.closest('#notebook-container');\n",
       "if (notebookContainer) {{\n",
       "    x.observe(notebookContainer, {childList: true});\n",
       "}}\n",
       "\n",
       "// Listen for the clearing of the current output cell\n",
       "var outputEl = gd.closest('.output');\n",
       "if (outputEl) {{\n",
       "    x.observe(outputEl, {childList: true});\n",
       "}}\n",
       "\n",
       "                        })                };                });            </script>        </div>"
      ]
     },
     "metadata": {},
     "output_type": "display_data"
    }
   ],
   "source": [
    "# Creating the six box plots using plotly express\n",
    "px.box(cardholder_25, x = 'month', y = 'amount')"
   ]
  }
 ],
 "metadata": {
  "file_extension": ".py",
  "kernelspec": {
   "display_name": "Python 3",
   "language": "python",
   "name": "python3"
  },
  "language_info": {
   "codemirror_mode": {
    "name": "ipython",
    "version": 3
   },
   "file_extension": ".py",
   "mimetype": "text/x-python",
   "name": "python",
   "nbconvert_exporter": "python",
   "pygments_lexer": "ipython3",
   "version": "3.9.5"
  },
  "mimetype": "text/x-python",
  "name": "python",
  "npconvert_exporter": "python",
  "pygments_lexer": "ipython3",
  "version": 3,
  "widgets": {
   "application/vnd.jupyter.widget-state+json": {
    "state": {},
    "version_major": 2,
    "version_minor": 0
   }
  }
 },
 "nbformat": 4,
 "nbformat_minor": 4
}
